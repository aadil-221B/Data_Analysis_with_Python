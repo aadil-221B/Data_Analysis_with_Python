{
 "cells": [
  {
   "cell_type": "code",
   "execution_count": 1,
   "id": "a856b359-9154-4f6f-8a24-397eafae3daa",
   "metadata": {},
   "outputs": [],
   "source": [
    "import numpy as np"
   ]
  },
  {
   "cell_type": "code",
   "execution_count": 2,
   "id": "c3813cb8-6daa-4735-b8a2-fbadc98085ce",
   "metadata": {},
   "outputs": [],
   "source": [
    "my_arr = np.arange(1_000_000)"
   ]
  },
  {
   "cell_type": "code",
   "execution_count": 3,
   "id": "f554d4e7-91e1-452e-aad0-84bbc622905e",
   "metadata": {},
   "outputs": [],
   "source": [
    "my_list = list(range(1_000_000))"
   ]
  },
  {
   "cell_type": "code",
   "execution_count": 5,
   "id": "b874faba-9590-4071-8803-f54874c0c215",
   "metadata": {},
   "outputs": [
    {
     "name": "stdout",
     "output_type": "stream",
     "text": [
      "2.21 ms ± 125 µs per loop (mean ± std. dev. of 7 runs, 100 loops each)\n"
     ]
    }
   ],
   "source": [
    "%%timeit \n",
    "my_arr2 = my_arr*2"
   ]
  },
  {
   "cell_type": "code",
   "execution_count": 6,
   "id": "e3962ceb-615c-4b98-a4aa-4d9cf8bfbff0",
   "metadata": {},
   "outputs": [
    {
     "name": "stdout",
     "output_type": "stream",
     "text": [
      "130 ms ± 33.6 ms per loop (mean ± std. dev. of 7 runs, 1 loop each)\n"
     ]
    }
   ],
   "source": [
    "%%timeit\n",
    "my_list2 = [x*2 for x in my_list]"
   ]
  },
  {
   "cell_type": "code",
   "execution_count": 7,
   "id": "8dd021c1-1554-4906-be03-19ee8258df58",
   "metadata": {},
   "outputs": [],
   "source": [
    "data = np.array([[1.5, -0.1, 3], [0, -3, 6.5]])"
   ]
  },
  {
   "cell_type": "code",
   "execution_count": 8,
   "id": "7e8beeaa-a358-4728-beb7-1f3daea9e8e5",
   "metadata": {},
   "outputs": [
    {
     "data": {
      "text/plain": [
       "array([[ 15.,  -1.,  30.],\n",
       "       [  0., -30.,  65.]])"
      ]
     },
     "execution_count": 8,
     "metadata": {},
     "output_type": "execute_result"
    }
   ],
   "source": [
    "data*10"
   ]
  },
  {
   "cell_type": "code",
   "execution_count": 9,
   "id": "39940e49-b815-475c-9767-48193db642d5",
   "metadata": {},
   "outputs": [
    {
     "data": {
      "text/plain": [
       "array([[ 3. , -0.2,  6. ],\n",
       "       [ 0. , -6. , 13. ]])"
      ]
     },
     "execution_count": 9,
     "metadata": {},
     "output_type": "execute_result"
    }
   ],
   "source": [
    "data+data"
   ]
  },
  {
   "cell_type": "code",
   "execution_count": 10,
   "id": "6469ebaf-4bff-4b3b-994b-4c00015f1983",
   "metadata": {},
   "outputs": [
    {
     "data": {
      "text/plain": [
       "(2, 3)"
      ]
     },
     "execution_count": 10,
     "metadata": {},
     "output_type": "execute_result"
    }
   ],
   "source": [
    "data.shape"
   ]
  },
  {
   "cell_type": "code",
   "execution_count": 11,
   "id": "0613188a-0855-467e-91b3-afe549994793",
   "metadata": {},
   "outputs": [
    {
     "data": {
      "text/plain": [
       "dtype('float64')"
      ]
     },
     "execution_count": 11,
     "metadata": {},
     "output_type": "execute_result"
    }
   ],
   "source": [
    "data.dtype"
   ]
  },
  {
   "cell_type": "markdown",
   "id": "759e73dc-30f6-4897-bc0a-0463c2a1dc93",
   "metadata": {},
   "source": [
    "# creating array"
   ]
  },
  {
   "cell_type": "code",
   "execution_count": 12,
   "id": "6315a3ba-7f1a-454e-acd9-e96534aba4d6",
   "metadata": {},
   "outputs": [],
   "source": [
    "data1 = [6, 7.5, 8, 0, 1]"
   ]
  },
  {
   "cell_type": "code",
   "execution_count": 14,
   "id": "ca67a33e-0858-4b95-b8f2-b30315ec89d8",
   "metadata": {},
   "outputs": [],
   "source": [
    "arr1 = np.array(data1)"
   ]
  },
  {
   "cell_type": "code",
   "execution_count": 15,
   "id": "cee203e9-1a72-4538-a7a4-1ef4b289f282",
   "metadata": {},
   "outputs": [
    {
     "data": {
      "text/plain": [
       "array([6. , 7.5, 8. , 0. , 1. ])"
      ]
     },
     "execution_count": 15,
     "metadata": {},
     "output_type": "execute_result"
    }
   ],
   "source": [
    "arr1"
   ]
  },
  {
   "cell_type": "code",
   "execution_count": 21,
   "id": "4e271fc0-a02a-421b-8656-5e7d3cbb8a80",
   "metadata": {},
   "outputs": [
    {
     "data": {
      "text/plain": [
       "(5,)"
      ]
     },
     "execution_count": 21,
     "metadata": {},
     "output_type": "execute_result"
    }
   ],
   "source": [
    "arr1.shape"
   ]
  },
  {
   "cell_type": "code",
   "execution_count": 22,
   "id": "1d19144b-04aa-4dc3-b2cf-38e240e66dce",
   "metadata": {},
   "outputs": [
    {
     "data": {
      "text/plain": [
       "1"
      ]
     },
     "execution_count": 22,
     "metadata": {},
     "output_type": "execute_result"
    }
   ],
   "source": [
    "arr1.ndim"
   ]
  },
  {
   "cell_type": "code",
   "execution_count": 17,
   "id": "0c03c006-e408-4ea5-806c-2913057b7a76",
   "metadata": {},
   "outputs": [],
   "source": [
    "data2 = [[1, 2, 3, 4], [5, 6, 7, 8]]"
   ]
  },
  {
   "cell_type": "code",
   "execution_count": 18,
   "id": "84c0e2a0-6761-4925-b093-77fcb157a95e",
   "metadata": {},
   "outputs": [],
   "source": [
    "arr2 = np.array(data2)"
   ]
  },
  {
   "cell_type": "code",
   "execution_count": 19,
   "id": "c5998c69-4f32-4dc3-96f0-215cb2d6c60f",
   "metadata": {},
   "outputs": [
    {
     "data": {
      "text/plain": [
       "array([[1, 2, 3, 4],\n",
       "       [5, 6, 7, 8]])"
      ]
     },
     "execution_count": 19,
     "metadata": {},
     "output_type": "execute_result"
    }
   ],
   "source": [
    "arr2"
   ]
  },
  {
   "cell_type": "code",
   "execution_count": 20,
   "id": "f719cb44-df16-4861-b584-3a3d9f35ddd6",
   "metadata": {},
   "outputs": [
    {
     "data": {
      "text/plain": [
       "(2, 4)"
      ]
     },
     "execution_count": 20,
     "metadata": {},
     "output_type": "execute_result"
    }
   ],
   "source": [
    "arr2.shape"
   ]
  },
  {
   "cell_type": "code",
   "execution_count": 23,
   "id": "87f9beb1-d43e-40db-9b2a-9dccd94739ca",
   "metadata": {},
   "outputs": [
    {
     "data": {
      "text/plain": [
       "2"
      ]
     },
     "execution_count": 23,
     "metadata": {},
     "output_type": "execute_result"
    }
   ],
   "source": [
    "arr2.ndim"
   ]
  },
  {
   "cell_type": "code",
   "execution_count": 24,
   "id": "9eaacddc-f4f6-481c-9e49-c71008f12b53",
   "metadata": {},
   "outputs": [
    {
     "data": {
      "text/plain": [
       "8"
      ]
     },
     "execution_count": 24,
     "metadata": {},
     "output_type": "execute_result"
    }
   ],
   "source": [
    "arr2.size"
   ]
  },
  {
   "cell_type": "code",
   "execution_count": 25,
   "id": "045b0ccc-6786-4448-8d8c-b4ac9aacf51d",
   "metadata": {},
   "outputs": [
    {
     "data": {
      "text/plain": [
       "array([0., 0., 0., 0., 0., 0., 0., 0., 0., 0.])"
      ]
     },
     "execution_count": 25,
     "metadata": {},
     "output_type": "execute_result"
    }
   ],
   "source": [
    "np.zeros(10)"
   ]
  },
  {
   "cell_type": "code",
   "execution_count": 27,
   "id": "244a306b-370a-4e1b-bf89-1f205cfa2414",
   "metadata": {},
   "outputs": [
    {
     "data": {
      "text/plain": [
       "array([[0., 0., 0., 0., 0., 0.],\n",
       "       [0., 0., 0., 0., 0., 0.],\n",
       "       [0., 0., 0., 0., 0., 0.]])"
      ]
     },
     "execution_count": 27,
     "metadata": {},
     "output_type": "execute_result"
    }
   ],
   "source": [
    "np.zeros((3,6))"
   ]
  },
  {
   "cell_type": "code",
   "execution_count": 28,
   "id": "b4803f63-487d-42f2-800f-b58f82807c6f",
   "metadata": {},
   "outputs": [
    {
     "data": {
      "text/plain": [
       "array([[[6.23042070e-307, 4.67296746e-307],\n",
       "        [1.69121096e-306, 8.90095411e-307],\n",
       "        [7.56587585e-307, 1.37961302e-306]],\n",
       "\n",
       "       [[1.05699242e-307, 8.01097889e-307],\n",
       "        [1.11261027e-306, 1.11261027e-306],\n",
       "        [2.22522596e-306, 1.42410974e-306]]])"
      ]
     },
     "execution_count": 28,
     "metadata": {},
     "output_type": "execute_result"
    }
   ],
   "source": [
    "np.empty((2,3,2))"
   ]
  },
  {
   "cell_type": "code",
   "execution_count": 29,
   "id": "982d1fd4-459c-4f18-accd-71b858778eda",
   "metadata": {},
   "outputs": [
    {
     "data": {
      "text/plain": [
       "array([[1., 1., 1., 1.],\n",
       "       [1., 1., 1., 1.],\n",
       "       [1., 1., 1., 1.]])"
      ]
     },
     "execution_count": 29,
     "metadata": {},
     "output_type": "execute_result"
    }
   ],
   "source": [
    "np.ones((3,4))"
   ]
  },
  {
   "cell_type": "code",
   "execution_count": 30,
   "id": "9c4afb67-c67c-411a-bb07-6a4b2e22b455",
   "metadata": {},
   "outputs": [
    {
     "data": {
      "text/plain": [
       "array([ 0,  1,  2,  3,  4,  5,  6,  7,  8,  9, 10, 11, 12, 13, 14])"
      ]
     },
     "execution_count": 30,
     "metadata": {},
     "output_type": "execute_result"
    }
   ],
   "source": [
    "np.arange(15)"
   ]
  },
  {
   "cell_type": "markdown",
   "id": "56ea14ab-5f2b-4f86-8900-17fe4826af45",
   "metadata": {
    "jp-MarkdownHeadingCollapsed": true
   },
   "source": [
    "| Function   | Description                                                                                                       |\r\n",
    "|------------|-------------------------------------------------------------------------------------------------------------------|\r\n",
    "| <span style=\"font-size:16px; color:#FF5733\">array</span>      | <span style=\"font-size:16px\">Convert input data (list, tuple, array, or other sequence type) to an ndarray either by inferring a data type or explicitly specifying a data type; copies the input data by default</span>  |\r\n",
    "| <span style=\"font-size:16px; color:#C70039\">asarray</span>    | <span style=\"font-size:16px\">Convert input to ndarray, but do not copy if the input is already an ndarray</span>    |\r\n",
    "| <span style=\"font-size:16px; color:#900C3F\">arange</span>     | <span style=\"font-size:16px\">Like the built-in range but returns an ndarray instead of a list</span>               |\r\n",
    "| <span style=\"font-size:16px; color:#581845\">ones</span>       | <span style=\"font-size:16px\">Produce an array of all 1s with the given shape and data type</span>                  |\r\n",
    "| <span style=\"font-size:16px; color:#FFC300\">ones_like</span>  | <span style=\"font-size:16px\">Takes another array and produces a ones array of the same shape and data type</span>  |\r\n",
    "| <span style=\"font-size:16px; color:#FF5733\">zeros</span>      | <span style=\"font-size:16px\">Like ones but producing arrays of 0s instead</span>                                    |\r\n",
    "| <span style=\"font-size:16px; color:#C70039\">zeros_like</span> | <span style=\"font-size:16px\">Takes another array and produces a zeros array of the same shape and data type</span> |\r\n",
    "| <span style=\"font-size:16px; color:#900C3F\">empty</span>      | <span style=\"font-size:16px\">Create new arrays by allocating new memory, but do not populate with any values like ones and zeros</span> |\r\n",
    "| <span style=\"font-size:16px; color:#581845\">empty_like</span> | <span style=\"font-size:16px\">Takes another array and produces an empty array of the same shape and data type</span> |\r\n",
    "| <span style=\"font-size:16px; color:#FFC300\">full</span>       | <span style=\"font-size:16px\">Produce an array of the given shape and data type with all values set to the indicated “fill value”</span> |\r\n",
    "| <span style=\"font-size:16px; color:#FF5733\">full_like</span>  | <span style=\"font-size:16px\">Takes another array and produces a filled array of the same shape and data type</span> |\r\n",
    "| <span style=\"font-size:16px; color:#C70039\">eye</span>        | <span style=\"font-size:16px\">Create a square N × N identity matrix (1s on the diagonal and 0s elsewhere)</span>    |\r\n",
    "| <span style=\"font-size:16px; color:#900C3F\">identity</span>   | <span style=\"font-size:16px\">Same as `eye` but more concise syntax</span>                                            |\r\n",
    "     |\r\n",
    "\n",
    "</pre>"
   ]
  },
  {
   "cell_type": "code",
   "execution_count": 32,
   "id": "e9821567-fbac-47af-b1ee-fcb47e4cc26a",
   "metadata": {},
   "outputs": [
    {
     "name": "stdout",
     "output_type": "stream",
     "text": [
      "[[1 1 1]\n",
      " [1 1 1]]\n"
     ]
    }
   ],
   "source": [
    "\n",
    "# Create an input array\n",
    "a = np.array([[1, 2, 3], [4, 5, 6]])\n",
    "\n",
    "# Create a new array with the same shape as 'a' but filled with ones\n",
    "result = np.ones_like(a)\n",
    "\n",
    "print(result)"
   ]
  },
  {
   "cell_type": "code",
   "execution_count": 33,
   "id": "aadb6090-2a0b-4748-bb4d-106e48818121",
   "metadata": {},
   "outputs": [
    {
     "name": "stdout",
     "output_type": "stream",
     "text": [
      "[[0 0 0]\n",
      " [0 0 0]]\n"
     ]
    }
   ],
   "source": [
    "# Create an input array\n",
    "a = np.array([[1, 2, 3], [4, 5, 6]])\n",
    "\n",
    "# Create a new array with the same shape as 'a' but filled with zeros\n",
    "result = np.zeros_like(a)\n",
    "\n",
    "print(result)"
   ]
  },
  {
   "cell_type": "code",
   "execution_count": 34,
   "id": "34ce641b-6c54-4043-a9c3-d2d5c2c50ba3",
   "metadata": {},
   "outputs": [],
   "source": [
    "# Create an empty array with shape (2, 3)\n",
    "arr = np.empty((2, 3))"
   ]
  },
  {
   "cell_type": "code",
   "execution_count": 35,
   "id": "bc0c27ea-5499-41d5-8722-9387d9e76340",
   "metadata": {},
   "outputs": [
    {
     "data": {
      "text/plain": [
       "array([[ 1.5, -0.1,  3. ],\n",
       "       [ 0. , -3. ,  6.5]])"
      ]
     },
     "execution_count": 35,
     "metadata": {},
     "output_type": "execute_result"
    }
   ],
   "source": [
    "arr"
   ]
  },
  {
   "cell_type": "code",
   "execution_count": 36,
   "id": "b3914c12-77b4-4d2d-ae9d-51336fc4eaf6",
   "metadata": {},
   "outputs": [],
   "source": [
    "# Create an input array\n",
    "a = np.array([[1, 2, 3], [4, 5, 6]])\n",
    "\n",
    "# Create an empty array with the same shape as 'a'\n",
    "arr = np.empty_like(a)"
   ]
  },
  {
   "cell_type": "code",
   "execution_count": 37,
   "id": "27c74ab7-7235-4476-9c2e-3790a07c355b",
   "metadata": {},
   "outputs": [
    {
     "data": {
      "text/plain": [
       "array([[1, 2, 3],\n",
       "       [4, 5, 6]])"
      ]
     },
     "execution_count": 37,
     "metadata": {},
     "output_type": "execute_result"
    }
   ],
   "source": [
    "arr"
   ]
  },
  {
   "cell_type": "code",
   "execution_count": 38,
   "id": "caac54d7-55f6-412c-b35f-d9f418b3478a",
   "metadata": {},
   "outputs": [
    {
     "data": {
      "text/plain": [
       "array([[7, 7, 7],\n",
       "       [7, 7, 7]])"
      ]
     },
     "execution_count": 38,
     "metadata": {},
     "output_type": "execute_result"
    }
   ],
   "source": [
    "# numpy.full(shape, fill_value, dtype=None, order='C')\n",
    "\n",
    "# Create a 2x3 array filled with the value 7\n",
    "arr = np.full((2, 3), 7)\n",
    "arr"
   ]
  },
  {
   "cell_type": "code",
   "execution_count": 39,
   "id": "c4801deb-c9bb-4adb-b2e2-26aa376b496e",
   "metadata": {},
   "outputs": [
    {
     "data": {
      "text/plain": [
       "array([[7, 7, 7],\n",
       "       [7, 7, 7]])"
      ]
     },
     "execution_count": 39,
     "metadata": {},
     "output_type": "execute_result"
    }
   ],
   "source": [
    "# numpy.full_like(a, fill_value, dtype=None, order='K', subok=True, shape=None)\n",
    "# Create an input array\n",
    "a = np.array([[1, 2, 3], [4, 5, 6]])\n",
    "\n",
    "# Create a new array with the same shape as 'a' filled with the value 7\n",
    "arr = np.full_like(a, 7)\n",
    "arr"
   ]
  },
  {
   "cell_type": "code",
   "execution_count": 40,
   "id": "fbc8023e-791b-465f-80bd-7fed08051f82",
   "metadata": {},
   "outputs": [
    {
     "data": {
      "text/plain": [
       "array([[1., 0., 0.],\n",
       "       [0., 1., 0.],\n",
       "       [0., 0., 1.]])"
      ]
     },
     "execution_count": 40,
     "metadata": {},
     "output_type": "execute_result"
    }
   ],
   "source": [
    "# numpy.eye(N, M=None, k=0, dtype=<class 'float'>, order='C')\n",
    "# Create a 3x3 identity matrix\n",
    "arr = np.eye(3)\n",
    "arr"
   ]
  },
  {
   "cell_type": "code",
   "execution_count": 41,
   "id": "265b0068-c93a-462b-9a7e-07ec33681268",
   "metadata": {},
   "outputs": [
    {
     "data": {
      "text/plain": [
       "array([[1., 0., 0., 0.],\n",
       "       [0., 1., 0., 0.],\n",
       "       [0., 0., 1., 0.],\n",
       "       [0., 0., 0., 1.]])"
      ]
     },
     "execution_count": 41,
     "metadata": {},
     "output_type": "execute_result"
    }
   ],
   "source": [
    "# numpy.identity(n, dtype=None)\n",
    "\n",
    "# Create a 4x4 identity matrix\n",
    "arr = np.identity(4)\n",
    "arr"
   ]
  },
  {
   "cell_type": "markdown",
   "id": "b852649b-6062-4b09-ab7f-8f2da3859b57",
   "metadata": {},
   "source": [
    "## NUMPY DATA TYPES\n"
   ]
  },
  {
   "cell_type": "markdown",
   "id": "a841eb1a-2898-4f14-b6e3-a120697e5f86",
   "metadata": {},
   "source": [
    "| Type                      | Type code | Description                                                                                                      |\r\n",
    "|---------------------------|-----------|------------------------------------------------------------------------------------------------------------------|\r\n",
    "| <font size=\"4\" color=\"#FF5733\">int8, uint8</font>               | <font size=\"4\" color=\"#FF5733\">i1, u1</font>      | <font size=\"4\" color=\"#FF5733\">🌟 Signed and unsigned 8-bit (1 byte) integer types</font>                        |\r\n",
    "| <font size=\"4\" color=\"#C70039\">int16, uint16</font>             | <font size=\"4\" color=\"#C70039\">i2, u2</font>      | <font size=\"4\" color=\"#C70039\">🚀 Signed and unsigned 16-bit integer types</font>                                 |\r\n",
    "| <font size=\"4\" color=\"#900C3F\">int32, uint32</font>             | <font size=\"4\" color=\"#900C3F\">i4, u4</font>      | <font size=\"4\" color=\"#900C3F\">💥 Signed and unsigned 32-bit integer types</font>                                 |\r\n",
    "| <font size=\"4\" color=\"#581845\">int64, uint64</font>             | <font size=\"4\" color=\"#581845\">i8, u8</font>      | <font size=\"4\" color=\"#581845\">🎉 Signed and unsigned 64-bit integer types</font>                                 |\r\n",
    "| <font size=\"4\" color=\"#FFC300\">float16</font>                   | <font size=\"4\" color=\"#FFC300\">f2</font>          | <font size=\"4\" color=\"#FFC300\">🌈 Half-precision floating point</font>                                             |\r\n",
    "| <font size=\"4\" color=\"#FF5733\">float32</font>                   | <font size=\"4\" color=\"#FF5733\">f4 or f</font>     | <font size=\"4\" color=\"#FF5733\">🌊 Standard single-precision floating point</font>                                  |\r\n",
    "| <font size=\"4\" color=\"#C70039\">float64</font>                   | <font size=\"4\" color=\"#C70039\">f8 or d</font>     | <font size=\"4\" color=\"#C70039\">🎆 Standard double-precision floating point</font>                                  |\r\n",
    "| <font size=\"4\" color=\"#900C3F\">float128</font>                  | <font size=\"4\" color=\"#900C3F\">f16 or g</font>    | <font size=\"4\" color=\"#900C3F\">🌠 Extended-precision floating point</font>                                         |\r\n",
    "| <font size=\"4\" color=\"#581845\">complex64,</font>                | <font size=\"4\" color=\"#581845\">c8</font>          | <font size=\"4\" color=\"#581845\">🔮 Complex numbers represented by two 32 floats</font>                               |\r\n",
    "| <font size=\"4\" color=\"#FFC300\">complex128,</font>               | <font size=\"4\" color=\"#FFC300\">c16</font>         | <font size=\"4\" color=\"#FFC300\">🌀 Complex numbers represented by two 64 floats</font>                               |\r\n",
    "| <font size=\"4\" color=\"#FF5733\">complex256</font>                | <font size=\"4\" color=\"#FF5733\">c32</font>         | <font size=\"4\" color=\"#FF5733\">🌌 Complex numbers represented by two 128 floats</font>                              |\r\n",
    "| <font size=\"4\" color=\"#C70039\">bool</font>                      | <font size=\"4\" color=\"#C70039\">?</font>           | <font size=\"4\" color=\"#C70039\">💡 Boolean type storing True and False values</font>                                 |\r\n",
    "| <font size=\"4\" color=\"#900C3F\">object</font>                    | <font size=\"4\" color=\"#900C3F\">O</font>           | <font size=\"4\" color=\"#900C3F\">🎨 Python object type; a value can be any Python object</font>                       |\r\n",
    "| <font size=\"4\" color=\"#581845\">string_</font>                   | <font size=\"4\" color=\"#581845\">S</font>           | <font size=\"4\" color=\"#581845\">📝 Fixed-length ASCII string type (1 byte per character); e.g., 'S10' to create a string data type with length 10</font> |\r\n",
    "| <font size=\"4\" color=\"#FFC300\">unicode_</font>                  | <font size=\"4\" color=\"#FFC300\">U</font>           | <font size=\"4\" color=\"#FFC300\">📚 Fixed-length Unicode type (number of bytes platform-specific); e.g., 'U10' for Unicode string with length 10</font>   |\r\n"
   ]
  },
  {
   "cell_type": "code",
   "execution_count": 42,
   "id": "273cadb1-378b-4f2b-8daa-da94454a663c",
   "metadata": {},
   "outputs": [],
   "source": [
    "arr3d = np.array([[[1, 2, 3], [4, 5, 6]], [[7, 8, 9], [10, 11, 12]]])"
   ]
  },
  {
   "cell_type": "code",
   "execution_count": 43,
   "id": "a4765514-ef35-486b-8219-df4227d2dc13",
   "metadata": {},
   "outputs": [
    {
     "data": {
      "text/plain": [
       "array([[[ 1,  2,  3],\n",
       "        [ 4,  5,  6]],\n",
       "\n",
       "       [[ 7,  8,  9],\n",
       "        [10, 11, 12]]])"
      ]
     },
     "execution_count": 43,
     "metadata": {},
     "output_type": "execute_result"
    }
   ],
   "source": [
    "arr3d"
   ]
  },
  {
   "cell_type": "code",
   "execution_count": null,
   "id": "68d9919b-a187-4c99-b52c-33e2673ffcd7",
   "metadata": {},
   "outputs": [],
   "source": []
  },
  {
   "cell_type": "markdown",
   "id": "26d2133f-cce8-418b-9685-18825dffd7f1",
   "metadata": {},
   "source": [
    "## Pseudorandom Number Generation"
   ]
  },
  {
   "cell_type": "code",
   "execution_count": 44,
   "id": "2113e78f-2134-4670-abfd-9ed7fd7e117d",
   "metadata": {},
   "outputs": [],
   "source": [
    "rng = np.random.default_rng(seed=12345)"
   ]
  },
  {
   "cell_type": "code",
   "execution_count": 45,
   "id": "46be0f7f-9739-4c12-878d-0e7f128374d4",
   "metadata": {},
   "outputs": [],
   "source": [
    "data = rng.standard_normal((2,3))"
   ]
  },
  {
   "cell_type": "code",
   "execution_count": 46,
   "id": "33d9d609-5640-41c5-9f29-baab2aefc142",
   "metadata": {},
   "outputs": [
    {
     "data": {
      "text/plain": [
       "array([[-1.42382504,  1.26372846, -0.87066174],\n",
       "       [-0.25917323, -0.07534331, -0.74088465]])"
      ]
     },
     "execution_count": 46,
     "metadata": {},
     "output_type": "execute_result"
    }
   ],
   "source": [
    "data"
   ]
  },
  {
   "cell_type": "code",
   "execution_count": 48,
   "id": "57963213-83f8-43d0-bb14-43453c9529f7",
   "metadata": {},
   "outputs": [
    {
     "data": {
      "text/plain": [
       "numpy.random._generator.Generator"
      ]
     },
     "execution_count": 48,
     "metadata": {},
     "output_type": "execute_result"
    }
   ],
   "source": [
    "type(rng)"
   ]
  },
  {
   "cell_type": "markdown",
   "id": "a6f75a88-d22b-49c6-9b07-7e49b2f3301c",
   "metadata": {},
   "source": [
    "## NumPy random number generator methods"
   ]
  },
  {
   "cell_type": "markdown",
   "id": "6c5b063a-4af0-4609-9bb6-4ae9ef9700c1",
   "metadata": {},
   "source": [
    "| Method            | Description                                                                                             |\r\n",
    "|-------------------|---------------------------------------------------------------------------------------------------------|\r\n",
    "| <span style=\"font-size:16px; color:#FF5733\">**permutation**</span>   | <span style=\"font-size:16px\">Return a random permutation of a sequence, or return a permuted range</span> |\r\n",
    "| <span style=\"font-size:16px; color:#C70039\">**shuffle**</span>       | <span style=\"font-size:16px\">Randomly permute a sequence in place</span>                                 |\r\n",
    "| <span style=\"font-size:16px; color:#900C3F\">**uniform**</span>       | <span style=\"font-size:16px\">Draw samples from a uniform distribution</span>                              |\r\n",
    "| <span style=\"font-size:16px; color:#581845\">**integers**</span>      | <span style=\"font-size:16px\">Draw random integers from a given low-to-high range</span>                   |\r\n",
    "| <span style=\"font-size:16px; color:#FFC300\">**standard_normal**</span> | <span style=\"font-size:16px\">Draw samples from a normal distribution with mean 0 and standard deviation 1</span> |\r\n",
    "| <span style=\"font-size:16px; color:#FF5733\">**binomial**</span>      | <span style=\"font-size:16px\">Draw samples from a binomial distribution</span>                               |\r\n",
    "| <span style=\"font-size:16px; color:#C70039\">**normal**</span>        | <span style=\"font-size:16px\">Draw samples from a normal (Gaussian) distribution</span>                     |\r\n",
    "| <span style=\"font-size:16px; color:#900C3F\">**beta**</span>          | <span style=\"font-size:16px\">Draw samples from a beta distribution</span>                                   |\r\n",
    "| <span style=\"font-size:16px; color:#581845\">**chisquare**</span>     | <span style=\"font-size:16px\">Draw samples from a chi-square distribution</span>                              |\r\n",
    "| <span style=\"font-size:16px; color:#FFC300\">**gamma**</span>         | <span style=\"font-size:16px\">Draw samples from a gamma distribution</span>                                   |\r\n",
    "| <span style=\"font-size:16px; color:#FF5733\">**uniform**</span>       | <span style=\"font-size:16px\">Draw samples from a uniform [0, 1) distribution</span>                           |\r\n"
   ]
  },
  {
   "cell_type": "markdown",
   "id": "7dd2da9e-7f0b-4da9-8716-382b82d87262",
   "metadata": {},
   "source": [
    "1. **`numpy.random.permutation`**:\n",
    "   - **Description**: Returns a random permutation of a sequence or array.\n",
    "   - **Example**: \n",
    "     ```python\n",
    "     import numpy as np\n",
    "     arr = np.array([1, 2, 3, 4, 5])\n",
    "     permuted_arr = np.random.permutation(arr)\n",
    "     print(permuted_arr)\n",
    "     ```\n",
    "   - **Explanation**: This function shuffles the elements of the input array randomly to generate a new permutation."
   ]
  },
  {
   "cell_type": "code",
   "execution_count": 57,
   "id": "a4eb38dd-276a-4548-a68e-4285260bd5d2",
   "metadata": {},
   "outputs": [],
   "source": [
    "arr = np.array([1, 2, 3, 4, 5])"
   ]
  },
  {
   "cell_type": "code",
   "execution_count": 58,
   "id": "fac62411-80bd-4f1a-ae13-91e5d7c5e4c9",
   "metadata": {},
   "outputs": [
    {
     "data": {
      "text/plain": [
       "array([1, 2, 3, 4, 5])"
      ]
     },
     "execution_count": 58,
     "metadata": {},
     "output_type": "execute_result"
    }
   ],
   "source": [
    "arr"
   ]
  },
  {
   "cell_type": "code",
   "execution_count": 59,
   "id": "6d1a977b-c7eb-4482-84eb-5199e6611839",
   "metadata": {},
   "outputs": [],
   "source": [
    "permuted_arr = np.random.permutation(arr)"
   ]
  },
  {
   "cell_type": "code",
   "execution_count": 60,
   "id": "9eee5e9c-8aae-41b7-bae1-3277a824a4fc",
   "metadata": {},
   "outputs": [
    {
     "name": "stdout",
     "output_type": "stream",
     "text": [
      "[5 3 1 4 2]\n"
     ]
    }
   ],
   "source": [
    "print(permuted_arr)"
   ]
  },
  {
   "cell_type": "code",
   "execution_count": 61,
   "id": "77daade0-4095-4416-87e9-86ab7fe4076a",
   "metadata": {},
   "outputs": [
    {
     "name": "stdout",
     "output_type": "stream",
     "text": [
      "[1 2 3 4 5]\n"
     ]
    }
   ],
   "source": [
    "print(arr)"
   ]
  },
  {
   "cell_type": "markdown",
   "id": "9c365de3-035c-45f7-a0dd-fe3477689d59",
   "metadata": {},
   "source": [
    "2. **`numpy.random.shuffle`**:\n",
    "   - **Description**: Randomly permutes the elements of an array in place.\n",
    "   - **Example**:\n",
    "     ```python\n",
    "     import numpy as np\n",
    "     arr = np.array([1, 2, 3, 4, 5])\n",
    "     np.random.shuffle(arr)\n",
    "     print(arr)\n",
    "     ```\n",
    "   - **Explanation**: This function shuffles the elements of the input array in place, modifying the original array."
   ]
  },
  {
   "cell_type": "code",
   "execution_count": 62,
   "id": "279c83cc-a68f-4967-b51a-17a81621a666",
   "metadata": {},
   "outputs": [
    {
     "name": "stdout",
     "output_type": "stream",
     "text": [
      "[4 5 3 2 1]\n"
     ]
    }
   ],
   "source": [
    "arr = np.array([1, 2, 3, 4, 5])\n",
    "np.random.shuffle(arr)\n",
    "print(arr)"
   ]
  },
  {
   "cell_type": "markdown",
   "id": "84260aa2-1563-416d-8ef9-7af2512fe7d6",
   "metadata": {},
   "source": [
    "\n",
    "3. **`numpy.random.uniform`**:\n",
    "   - **Description**: Generates random samples from a uniform distribution.\n",
    "   - **Example**:\n",
    "     ```python\n",
    "     import numpy as np\n",
    "     uniform_samples = np.random.uniform(low=0, high=1, size=(3, 3))\n",
    "     print(uniform_samples)\n",
    "     ```\n",
    "   - **Explanation**: This function generates random numbers from a uniform distribution over the specified interval `[low, high)`."
   ]
  },
  {
   "cell_type": "code",
   "execution_count": 64,
   "id": "1fa750c2-71a0-4f3d-9bc8-764c23e489bf",
   "metadata": {},
   "outputs": [
    {
     "name": "stdout",
     "output_type": "stream",
     "text": [
      "[[0.49170375 0.16953278 0.2937411 ]\n",
      " [0.10099476 0.93853109 0.58406077]\n",
      " [0.77017688 0.039145   0.59305344]]\n"
     ]
    }
   ],
   "source": [
    "uniform_samples = np.random.uniform(low=0, high=1, size=(3, 3))\n",
    "print(uniform_samples)"
   ]
  },
  {
   "cell_type": "code",
   "execution_count": 65,
   "id": "faa6966c-0fe2-4a1e-8d56-70c34487b8a1",
   "metadata": {},
   "outputs": [
    {
     "name": "stdout",
     "output_type": "stream",
     "text": [
      "[[73.43258392 30.42243072 67.89230345]\n",
      " [21.05866978 72.65469218 52.34596668]\n",
      " [13.80844779 85.25192506 24.80786963]]\n"
     ]
    }
   ],
   "source": [
    "uniform_samples = np.random.uniform(low=10, high=101, size=(3, 3))\n",
    "print(uniform_samples)"
   ]
  },
  {
   "cell_type": "markdown",
   "id": "84cba4ea-cfac-4d10-8f63-d37ab4c97912",
   "metadata": {},
   "source": [
    "4. **`numpy.random.randint`**:\n",
    "   - **Description**: Generates random integers from a low (inclusive) to high (exclusive) range.\n",
    "   - **Example**:\n",
    "     ```python\n",
    "     import numpy as np\n",
    "     random_integers = np.random.randint(low=1, high=10, size=(3, 3))\n",
    "     print(random_integers)\n",
    "     ```\n",
    "   - **Explanation**: This function generates random integers within the specified range `[low, high)`."
   ]
  },
  {
   "cell_type": "code",
   "execution_count": 66,
   "id": "40dd5c1d-2e34-42e1-861c-4156caa1753f",
   "metadata": {},
   "outputs": [
    {
     "name": "stdout",
     "output_type": "stream",
     "text": [
      "[[6 6 8]\n",
      " [7 7 7]\n",
      " [5 9 8]]\n"
     ]
    }
   ],
   "source": [
    "random_integers = np.random.randint(low=1, high=10, size=(3, 3))\n",
    "print(random_integers)"
   ]
  },
  {
   "cell_type": "markdown",
   "id": "dc8638aa-6fdd-4171-bf81-adb8744dc7ce",
   "metadata": {},
   "source": [
    "5. **`numpy.random.normal`**:\n",
    "   - **Description**: Generates random samples from a normal (Gaussian) distribution.\n",
    "   - **Example**:\n",
    "     ```python\n",
    "     import numpy as np\n",
    "     normal_samples = np.random.normal(loc=0, scale=1, size=(3, 3))\n",
    "     print(normal_samples)\n",
    "     ```\n",
    "   - **Explanation**: This function generates random numbers from a normal distribution with the specified mean (`loc`) and standard deviation (`scale`)"
   ]
  },
  {
   "cell_type": "code",
   "execution_count": 72,
   "id": "74c73dc5-443c-4aca-a441-32e267911cba",
   "metadata": {},
   "outputs": [
    {
     "name": "stdout",
     "output_type": "stream",
     "text": [
      "[[ 0.88537777  0.09327039 -0.66050914]\n",
      " [ 0.68718319  0.75025936  0.27156922]\n",
      " [-0.08922601 -1.02329877 -0.88109868]]\n"
     ]
    }
   ],
   "source": [
    "normal_samples = np.random.normal(loc=0, scale=1, size=(3, 3))\n",
    "print(normal_samples)"
   ]
  },
  {
   "cell_type": "markdown",
   "id": "7cc83b78-d119-4242-bbf2-aa70f9f3d0fd",
   "metadata": {},
   "source": [
    "**`numpy.random.standard_normal`**:\n",
    "   - **Description**: Generates random samples from a normal (Gaussian) distribution with mean 0 and std 1."
   ]
  },
  {
   "cell_type": "code",
   "execution_count": 74,
   "id": "fbe0fad2-9093-4630-a690-d4296cdf6c39",
   "metadata": {},
   "outputs": [
    {
     "data": {
      "text/plain": [
       "array([[-0.17905799, -1.02580963,  0.9463145 ],\n",
       "       [-0.21252871,  0.47082558,  0.09138804],\n",
       "       [ 0.24434963, -2.02455261, -0.09507126]])"
      ]
     },
     "execution_count": 74,
     "metadata": {},
     "output_type": "execute_result"
    }
   ],
   "source": [
    "std_normal = np.random.standard_normal((3,3))\n",
    "std_normal"
   ]
  },
  {
   "cell_type": "markdown",
   "id": "e727fa69-5dfc-480f-99f6-ba20b09c188e",
   "metadata": {},
   "source": [
    "6. **`numpy.random.beta`**:\n",
    "   - **Description**: Draws samples from a beta distribution.\n",
    "   - **Example**: \n",
    "     ```python\n",
    "     import numpy as np\n",
    "     beta_samples = np.random.beta(a=2, b=5, size=(3, 3))\n",
    "     print(beta_samples)\n",
    "     ```\n",
    "   - **Explanation**: This function generates random numbers from a beta distribution with parameters `a` (alpha) and `b` (beta)."
   ]
  },
  {
   "cell_type": "code",
   "execution_count": 69,
   "id": "71ffaf86-04e3-4620-9f3e-c00a0a1a0ac1",
   "metadata": {},
   "outputs": [
    {
     "name": "stdout",
     "output_type": "stream",
     "text": [
      "[[0.37829309 0.31655357 0.06528242]\n",
      " [0.02051174 0.33523318 0.29773229]\n",
      " [0.09455903 0.46069798 0.4701953 ]]\n"
     ]
    }
   ],
   "source": [
    "beta_samples = np.random.beta(a=2, b=5, size=(3, 3))\n",
    "print(beta_samples)"
   ]
  },
  {
   "cell_type": "markdown",
   "id": "cc1eaeed-b131-4b12-aea9-e7f8c90272c3",
   "metadata": {},
   "source": [
    "7. **`numpy.random.gamma`**:\n",
    "   - **Description**: Draws samples from a gamma distribution.\n",
    "   - **Example**:\n",
    "     ```python\n",
    "     import numpy as np\n",
    "     gamma_samples = np.random.gamma(shape=2, scale=2, size=(3, 3))\n",
    "     print(gamma_samples)\n",
    "     ```\n",
    "   - **Explanation**: This function generates random numbers from a gamma distribution with parameters `shape` and `scale`.\n"
   ]
  },
  {
   "cell_type": "code",
   "execution_count": 70,
   "id": "dc77c4c6-3795-46ce-ab0d-50d4152e9433",
   "metadata": {},
   "outputs": [
    {
     "name": "stdout",
     "output_type": "stream",
     "text": [
      "[[ 5.96603706  6.20411076 10.08789578]\n",
      " [ 0.52430637  0.81798641 10.63144747]\n",
      " [ 3.64893844  8.74544584  1.16512378]]\n"
     ]
    }
   ],
   "source": [
    "gamma_samples = np.random.gamma(shape=2, scale=2, size=(3, 3))\n",
    "print(gamma_samples)"
   ]
  },
  {
   "cell_type": "markdown",
   "id": "6a5bcf54-4f1d-4f92-9037-61585225e833",
   "metadata": {},
   "source": [
    "7. **`numpy.random.chisquare`**:\n",
    "   - **Description**: Draws samples from a chi-square distribution.\n",
    "   - **Example**:\n",
    "     ```python\n",
    "     import numpy as np\n",
    "     chi_square_samples = np.random.chisquare(df=2, size=(3, 3))\n",
    "     print(chi_square_samples)\n",
    "     ```\n",
    "   - **Explanation**: This function generates random numbers from a chi-square distribution with `df` degrees of freedom."
   ]
  },
  {
   "cell_type": "code",
   "execution_count": 71,
   "id": "c5f61919-4f38-4cb1-972f-996d357a7e6e",
   "metadata": {},
   "outputs": [
    {
     "name": "stdout",
     "output_type": "stream",
     "text": [
      "[[3.04675209 1.40501872 3.81307714]\n",
      " [0.20653739 0.95511709 0.62500024]\n",
      " [2.14480407 2.13536789 0.755872  ]]\n"
     ]
    }
   ],
   "source": [
    "chi_square_samples = np.random.chisquare(df=2, size=(3, 3))\n",
    "print(chi_square_samples)"
   ]
  },
  {
   "cell_type": "markdown",
   "id": "4d466cfa-584c-42ba-a157-91b928629b95",
   "metadata": {},
   "source": [
    "# Using `default_rng` with Seed in NumPy\r\n",
    "\r\n",
    "The `default_rng` function in NumPy version 1.17 and later allows you to create an instance of a new random number generator (RNG) with a specified seed. Setting a seed ensures reproducibility of random number generation across different runs of your code.\r\n",
    "\r\n",
    "## Example Usage\r\n",
    "\r\n",
    "To use `default_rng` with a seed, follow these steps:\r\n",
    "\r\n",
    "1. **Import NumPy**: Import the NumPy library.\r\n",
    "\r\n",
    "    ```python\r\n",
    "    import numpy as np\r\n",
    "    ```\r\n",
    "\r\n",
    "2. **Create RNG Instance with Seed**: Use `np.random.default_rng()` with a specified seed to create an instance of the RNG.\r\n",
    "\r\n",
    "    ```python\r\n",
    "    seed_value = 42  # Set the seed value\r\n",
    "    rng = np.random.default_rng(seed_value)\r\n",
    "    ```\r\n",
    "\r\n",
    "3. **Generate Random Numbers**: Use the created RNG instance to generate random numbers.\r\n",
    "\r\n",
    "    ```python\r\n",
    "    random_numbers = rng.random(size=10)\r\n",
    "    ```\r\n",
    "\r\n",
    "4. **Print Results**: Print the generated random numbers.\r\n",
    "\r\n",
    "    ```python\r\n",
    "    print(random_numbers)\r\n",
    "    ```\r\n",
    "\r\n",
    "## Explanation\r\n",
    "\r\n",
    "- **Setting Seed**: By providing a seed value to `default_rng`, you ensure that the random number generation process starts from a known initial state. This makes the sequence of random numbers deterministic and reproducible.\r\n",
    "\r\n",
    "- **Advantages of Seeding**:\r\n",
    "  - Reproducibility: Using a seed ensures that the same sequence of random numbers is generated every time the code is run with the same seed value.\r\n",
    "  - Debugging: Seeding allows you to debug your code more effectively by ensuring that random number generation is consistent across different runs.\r\n",
    "\r\n",
    "- **Seed Value**: The seed value can be any integer. Using the same seed value will produce the same sequence of random numbers. However, changing the seed value will result in a different sequence of random numbers.\r\n",
    "\r\n",
    "- **Random Number Generation**: After creating the RNG instance with a seed, you can generate random numbers using methods like `random`, `uniform`, `normal`, etc. The generated numbers will be deterministic and reproducible based on the specified s\r\n",
    "mpared to the legacy `np.random` module.\r\n"
   ]
  },
  {
   "cell_type": "code",
   "execution_count": 75,
   "id": "ae4f3113-ddaf-4e8e-b879-be4e8ed9b64d",
   "metadata": {},
   "outputs": [],
   "source": [
    "seed_value = 100\n",
    "rng = np.random.default_rng(seed_value)"
   ]
  },
  {
   "cell_type": "code",
   "execution_count": 76,
   "id": "8261b198-e2ed-412c-9e28-b3578a037406",
   "metadata": {},
   "outputs": [
    {
     "data": {
      "text/plain": [
       "array([0.83498163, 0.59655403, 0.28886324, 0.04295157, 0.9736544 ,\n",
       "       0.5964717 , 0.79026316, 0.91033938, 0.68815445, 0.18999147])"
      ]
     },
     "execution_count": 76,
     "metadata": {},
     "output_type": "execute_result"
    }
   ],
   "source": [
    "rng.random(size=10)"
   ]
  },
  {
   "cell_type": "code",
   "execution_count": 78,
   "id": "b1bf6ebb-40a8-4ffd-bd7c-6d960ea787d9",
   "metadata": {},
   "outputs": [
    {
     "data": {
      "text/plain": [
       "array([[10.94950649,  6.13779717,  8.01504344],\n",
       "       [ 7.18905783,  9.53780898,  8.62230583],\n",
       "       [13.03021156,  8.79365691, 13.42736898]])"
      ]
     },
     "execution_count": 78,
     "metadata": {},
     "output_type": "execute_result"
    }
   ],
   "source": [
    "rng.normal(loc=10, scale=2, size=(3,3))"
   ]
  },
  {
   "cell_type": "code",
   "execution_count": null,
   "id": "10283639-d56d-49b5-9075-161334222e56",
   "metadata": {},
   "outputs": [],
   "source": []
  },
  {
   "cell_type": "markdown",
   "id": "004821eb-f3fb-4fc6-ad71-2d5e6c870277",
   "metadata": {},
   "source": [
    "# Some unary universal functions-----\r\n"
   ]
  },
  {
   "cell_type": "markdown",
   "id": "66342a89-7006-42d4-ab16-6644e3b68708",
   "metadata": {},
   "source": [
    "<style>\r\n",
    "table {\r\n",
    "  font-family: Arial, sans-serif;\r\n",
    "  border-collapse: collapse;\r\n",
    "  width: 100%;\r\n",
    "}\r\n",
    "\r\n",
    "th, td {\r\n",
    "  border: 1px solid #dddddd;\r\n",
    "  text-align: left;\r\n",
    "  padding: 12px;\r\n",
    "}\r\n",
    "\r\n",
    "th {\r\n",
    "  background-color: #4CAF50;\r\n",
    "  color: white;\r\n",
    "}\r\n",
    "\r\n",
    "tr:nth-child(even) {\r\n",
    "  background-color: #f2f2f2;\r\n",
    "}\r\n",
    "\r\n",
    "h2 {\r\n",
    "  color: #4CAF50;\r\n",
    "  font-size: 28px;\r\n",
    "}\r\n",
    "</style>\r\n",
    "\r\n",
    "<h2>NumPy Mathematical Functions</h2>\r\n",
    "\r\n",
    "| Function       | Description                                                                                                   |\r\n",
    "|----------------|---------------------------------------------------------------------------------------------------------------|\r\n",
    "| abs, fabs      | Compute the absolute value element-wise for integer, floating-point, or complex values                        |\r\n",
    "| sqrt           | Compute the square root of each element (equivalent to arr ** 0.5)                                            |\r\n",
    "| square         | Compute the square of each element (equivalent to arr ** 2)                                                    |\r\n",
    "| exp            | Compute the exponent ex of each element                                                                        |\r\n",
    "| log, log10,    | Natural logarithm (base e), log base 10, log base 2, and log(1 + x), respectively                              |\r\n",
    "| log2, log1p   |                                                                                                               |\r\n",
    "| sign           | Compute the sign of each element: 1 (positive), 0 (zero), or –1 (negative)                                    |\r\n",
    "| ceil           | Compute the ceiling of each element (i.e., the smallest integer greater than or equal to that number)         |\r\n",
    "| floor          | Compute the floor of each element (i.e., the largest integer less than or equal to each element)              |\r\n",
    "| rint           | Round elements to the nearest integer, preserving the dtype                                                   |\r\n",
    "| modf           | Return fractional and integral parts of array as separate arrays                                               |\r\n",
    "| isnan          | Return Boolean array indicating whether each value is NaN (Not a Number)                                       |\r\n",
    "| isfinite,      | Return Boolean array indicating whether each element is finite (non-inf, non-NaN) or infinite,                |\r\n",
    "| isinf          | respectively                                                                                                  |\r\n",
    "| cos, cosh,     | Regular and hyperbolic trigonometric functions                                                                 |\r\n",
    "| sin, sinh,     |                                                                                                               |\r\n",
    "| tan, tanh      |                                                                                                               |\r\n",
    "| arccos,        | Inverse trigonometric functions                                                                               |\r\n",
    "| arccosh,       |                                                                                                               |\r\n",
    "| arcsin,        |                                                                                                               |\r\n",
    "| arcsinh,       |                                                                                                               |\r\n",
    "| arctan,        |                                                                                                               |\r\n",
    "| arctanh        |                                                                                                               |\r\n",
    "| logical_not    | Compute truth value of not x element-wise (equivalent to ~arr)                                                |\r\n",
    "~arr)                                                |\r\n",
    " to ~arr)                                                |\r\n"
   ]
  },
  {
   "cell_type": "code",
   "execution_count": null,
   "id": "64c5e23b-682a-497f-ad18-238dee90dbd8",
   "metadata": {},
   "outputs": [],
   "source": []
  }
 ],
 "metadata": {
  "kernelspec": {
   "display_name": "Python 3 (ipykernel)",
   "language": "python",
   "name": "python3"
  },
  "language_info": {
   "codemirror_mode": {
    "name": "ipython",
    "version": 3
   },
   "file_extension": ".py",
   "mimetype": "text/x-python",
   "name": "python",
   "nbconvert_exporter": "python",
   "pygments_lexer": "ipython3",
   "version": "3.11.5"
  }
 },
 "nbformat": 4,
 "nbformat_minor": 5
}
