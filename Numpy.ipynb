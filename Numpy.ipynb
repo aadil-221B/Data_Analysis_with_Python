{
 "cells": [
  {
   "cell_type": "code",
   "execution_count": 1,
   "id": "a856b359-9154-4f6f-8a24-397eafae3daa",
   "metadata": {},
   "outputs": [],
   "source": [
    "import numpy as np"
   ]
  },
  {
   "cell_type": "code",
   "execution_count": 2,
   "id": "c3813cb8-6daa-4735-b8a2-fbadc98085ce",
   "metadata": {},
   "outputs": [],
   "source": [
    "my_arr = np.arange(1_000_000)"
   ]
  },
  {
   "cell_type": "code",
   "execution_count": 3,
   "id": "f554d4e7-91e1-452e-aad0-84bbc622905e",
   "metadata": {},
   "outputs": [],
   "source": [
    "my_list = list(range(1_000_000))"
   ]
  },
  {
   "cell_type": "code",
   "execution_count": 5,
   "id": "b874faba-9590-4071-8803-f54874c0c215",
   "metadata": {},
   "outputs": [
    {
     "name": "stdout",
     "output_type": "stream",
     "text": [
      "2.21 ms ± 125 µs per loop (mean ± std. dev. of 7 runs, 100 loops each)\n"
     ]
    }
   ],
   "source": [
    "%%timeit \n",
    "my_arr2 = my_arr*2"
   ]
  },
  {
   "cell_type": "code",
   "execution_count": 6,
   "id": "e3962ceb-615c-4b98-a4aa-4d9cf8bfbff0",
   "metadata": {},
   "outputs": [
    {
     "name": "stdout",
     "output_type": "stream",
     "text": [
      "130 ms ± 33.6 ms per loop (mean ± std. dev. of 7 runs, 1 loop each)\n"
     ]
    }
   ],
   "source": [
    "%%timeit\n",
    "my_list2 = [x*2 for x in my_list]"
   ]
  },
  {
   "cell_type": "code",
   "execution_count": 7,
   "id": "8dd021c1-1554-4906-be03-19ee8258df58",
   "metadata": {},
   "outputs": [],
   "source": [
    "data = np.array([[1.5, -0.1, 3], [0, -3, 6.5]])"
   ]
  },
  {
   "cell_type": "code",
   "execution_count": 8,
   "id": "7e8beeaa-a358-4728-beb7-1f3daea9e8e5",
   "metadata": {},
   "outputs": [
    {
     "data": {
      "text/plain": [
       "array([[ 15.,  -1.,  30.],\n",
       "       [  0., -30.,  65.]])"
      ]
     },
     "execution_count": 8,
     "metadata": {},
     "output_type": "execute_result"
    }
   ],
   "source": [
    "data*10"
   ]
  },
  {
   "cell_type": "code",
   "execution_count": 9,
   "id": "39940e49-b815-475c-9767-48193db642d5",
   "metadata": {},
   "outputs": [
    {
     "data": {
      "text/plain": [
       "array([[ 3. , -0.2,  6. ],\n",
       "       [ 0. , -6. , 13. ]])"
      ]
     },
     "execution_count": 9,
     "metadata": {},
     "output_type": "execute_result"
    }
   ],
   "source": [
    "data+data"
   ]
  },
  {
   "cell_type": "code",
   "execution_count": 10,
   "id": "6469ebaf-4bff-4b3b-994b-4c00015f1983",
   "metadata": {},
   "outputs": [
    {
     "data": {
      "text/plain": [
       "(2, 3)"
      ]
     },
     "execution_count": 10,
     "metadata": {},
     "output_type": "execute_result"
    }
   ],
   "source": [
    "data.shape"
   ]
  },
  {
   "cell_type": "code",
   "execution_count": 11,
   "id": "0613188a-0855-467e-91b3-afe549994793",
   "metadata": {},
   "outputs": [
    {
     "data": {
      "text/plain": [
       "dtype('float64')"
      ]
     },
     "execution_count": 11,
     "metadata": {},
     "output_type": "execute_result"
    }
   ],
   "source": [
    "data.dtype"
   ]
  },
  {
   "cell_type": "markdown",
   "id": "759e73dc-30f6-4897-bc0a-0463c2a1dc93",
   "metadata": {},
   "source": [
    "# creating array"
   ]
  },
  {
   "cell_type": "code",
   "execution_count": 12,
   "id": "6315a3ba-7f1a-454e-acd9-e96534aba4d6",
   "metadata": {},
   "outputs": [],
   "source": [
    "data1 = [6, 7.5, 8, 0, 1]"
   ]
  },
  {
   "cell_type": "code",
   "execution_count": 14,
   "id": "ca67a33e-0858-4b95-b8f2-b30315ec89d8",
   "metadata": {},
   "outputs": [],
   "source": [
    "arr1 = np.array(data1)"
   ]
  },
  {
   "cell_type": "code",
   "execution_count": 15,
   "id": "cee203e9-1a72-4538-a7a4-1ef4b289f282",
   "metadata": {},
   "outputs": [
    {
     "data": {
      "text/plain": [
       "array([6. , 7.5, 8. , 0. , 1. ])"
      ]
     },
     "execution_count": 15,
     "metadata": {},
     "output_type": "execute_result"
    }
   ],
   "source": [
    "arr1"
   ]
  },
  {
   "cell_type": "code",
   "execution_count": 21,
   "id": "4e271fc0-a02a-421b-8656-5e7d3cbb8a80",
   "metadata": {},
   "outputs": [
    {
     "data": {
      "text/plain": [
       "(5,)"
      ]
     },
     "execution_count": 21,
     "metadata": {},
     "output_type": "execute_result"
    }
   ],
   "source": [
    "arr1.shape"
   ]
  },
  {
   "cell_type": "code",
   "execution_count": 22,
   "id": "1d19144b-04aa-4dc3-b2cf-38e240e66dce",
   "metadata": {},
   "outputs": [
    {
     "data": {
      "text/plain": [
       "1"
      ]
     },
     "execution_count": 22,
     "metadata": {},
     "output_type": "execute_result"
    }
   ],
   "source": [
    "arr1.ndim"
   ]
  },
  {
   "cell_type": "code",
   "execution_count": 17,
   "id": "0c03c006-e408-4ea5-806c-2913057b7a76",
   "metadata": {},
   "outputs": [],
   "source": [
    "data2 = [[1, 2, 3, 4], [5, 6, 7, 8]]"
   ]
  },
  {
   "cell_type": "code",
   "execution_count": 18,
   "id": "84c0e2a0-6761-4925-b093-77fcb157a95e",
   "metadata": {},
   "outputs": [],
   "source": [
    "arr2 = np.array(data2)"
   ]
  },
  {
   "cell_type": "code",
   "execution_count": 19,
   "id": "c5998c69-4f32-4dc3-96f0-215cb2d6c60f",
   "metadata": {},
   "outputs": [
    {
     "data": {
      "text/plain": [
       "array([[1, 2, 3, 4],\n",
       "       [5, 6, 7, 8]])"
      ]
     },
     "execution_count": 19,
     "metadata": {},
     "output_type": "execute_result"
    }
   ],
   "source": [
    "arr2"
   ]
  },
  {
   "cell_type": "code",
   "execution_count": 20,
   "id": "f719cb44-df16-4861-b584-3a3d9f35ddd6",
   "metadata": {},
   "outputs": [
    {
     "data": {
      "text/plain": [
       "(2, 4)"
      ]
     },
     "execution_count": 20,
     "metadata": {},
     "output_type": "execute_result"
    }
   ],
   "source": [
    "arr2.shape"
   ]
  },
  {
   "cell_type": "code",
   "execution_count": 23,
   "id": "87f9beb1-d43e-40db-9b2a-9dccd94739ca",
   "metadata": {},
   "outputs": [
    {
     "data": {
      "text/plain": [
       "2"
      ]
     },
     "execution_count": 23,
     "metadata": {},
     "output_type": "execute_result"
    }
   ],
   "source": [
    "arr2.ndim"
   ]
  },
  {
   "cell_type": "code",
   "execution_count": 24,
   "id": "9eaacddc-f4f6-481c-9e49-c71008f12b53",
   "metadata": {},
   "outputs": [
    {
     "data": {
      "text/plain": [
       "8"
      ]
     },
     "execution_count": 24,
     "metadata": {},
     "output_type": "execute_result"
    }
   ],
   "source": [
    "arr2.size"
   ]
  },
  {
   "cell_type": "code",
   "execution_count": 25,
   "id": "045b0ccc-6786-4448-8d8c-b4ac9aacf51d",
   "metadata": {},
   "outputs": [
    {
     "data": {
      "text/plain": [
       "array([0., 0., 0., 0., 0., 0., 0., 0., 0., 0.])"
      ]
     },
     "execution_count": 25,
     "metadata": {},
     "output_type": "execute_result"
    }
   ],
   "source": [
    "np.zeros(10)"
   ]
  },
  {
   "cell_type": "code",
   "execution_count": 27,
   "id": "244a306b-370a-4e1b-bf89-1f205cfa2414",
   "metadata": {},
   "outputs": [
    {
     "data": {
      "text/plain": [
       "array([[0., 0., 0., 0., 0., 0.],\n",
       "       [0., 0., 0., 0., 0., 0.],\n",
       "       [0., 0., 0., 0., 0., 0.]])"
      ]
     },
     "execution_count": 27,
     "metadata": {},
     "output_type": "execute_result"
    }
   ],
   "source": [
    "np.zeros((3,6))"
   ]
  },
  {
   "cell_type": "code",
   "execution_count": 28,
   "id": "b4803f63-487d-42f2-800f-b58f82807c6f",
   "metadata": {},
   "outputs": [
    {
     "data": {
      "text/plain": [
       "array([[[6.23042070e-307, 4.67296746e-307],\n",
       "        [1.69121096e-306, 8.90095411e-307],\n",
       "        [7.56587585e-307, 1.37961302e-306]],\n",
       "\n",
       "       [[1.05699242e-307, 8.01097889e-307],\n",
       "        [1.11261027e-306, 1.11261027e-306],\n",
       "        [2.22522596e-306, 1.42410974e-306]]])"
      ]
     },
     "execution_count": 28,
     "metadata": {},
     "output_type": "execute_result"
    }
   ],
   "source": [
    "np.empty((2,3,2))"
   ]
  },
  {
   "cell_type": "code",
   "execution_count": 29,
   "id": "982d1fd4-459c-4f18-accd-71b858778eda",
   "metadata": {},
   "outputs": [
    {
     "data": {
      "text/plain": [
       "array([[1., 1., 1., 1.],\n",
       "       [1., 1., 1., 1.],\n",
       "       [1., 1., 1., 1.]])"
      ]
     },
     "execution_count": 29,
     "metadata": {},
     "output_type": "execute_result"
    }
   ],
   "source": [
    "np.ones((3,4))"
   ]
  },
  {
   "cell_type": "code",
   "execution_count": 30,
   "id": "9c4afb67-c67c-411a-bb07-6a4b2e22b455",
   "metadata": {},
   "outputs": [
    {
     "data": {
      "text/plain": [
       "array([ 0,  1,  2,  3,  4,  5,  6,  7,  8,  9, 10, 11, 12, 13, 14])"
      ]
     },
     "execution_count": 30,
     "metadata": {},
     "output_type": "execute_result"
    }
   ],
   "source": [
    "np.arange(15)"
   ]
  },
  {
   "cell_type": "markdown",
   "id": "56ea14ab-5f2b-4f86-8900-17fe4826af45",
   "metadata": {
    "jp-MarkdownHeadingCollapsed": true
   },
   "source": [
    "| Function   | Description                                                                                                       |\r\n",
    "|------------|-------------------------------------------------------------------------------------------------------------------|\r\n",
    "| <span style=\"font-size:16px; color:#FF5733\">array</span>      | <span style=\"font-size:16px\">Convert input data (list, tuple, array, or other sequence type) to an ndarray either by inferring a data type or explicitly specifying a data type; copies the input data by default</span>  |\r\n",
    "| <span style=\"font-size:16px; color:#C70039\">asarray</span>    | <span style=\"font-size:16px\">Convert input to ndarray, but do not copy if the input is already an ndarray</span>    |\r\n",
    "| <span style=\"font-size:16px; color:#900C3F\">arange</span>     | <span style=\"font-size:16px\">Like the built-in range but returns an ndarray instead of a list</span>               |\r\n",
    "| <span style=\"font-size:16px; color:#581845\">ones</span>       | <span style=\"font-size:16px\">Produce an array of all 1s with the given shape and data type</span>                  |\r\n",
    "| <span style=\"font-size:16px; color:#FFC300\">ones_like</span>  | <span style=\"font-size:16px\">Takes another array and produces a ones array of the same shape and data type</span>  |\r\n",
    "| <span style=\"font-size:16px; color:#FF5733\">zeros</span>      | <span style=\"font-size:16px\">Like ones but producing arrays of 0s instead</span>                                    |\r\n",
    "| <span style=\"font-size:16px; color:#C70039\">zeros_like</span> | <span style=\"font-size:16px\">Takes another array and produces a zeros array of the same shape and data type</span> |\r\n",
    "| <span style=\"font-size:16px; color:#900C3F\">empty</span>      | <span style=\"font-size:16px\">Create new arrays by allocating new memory, but do not populate with any values like ones and zeros</span> |\r\n",
    "| <span style=\"font-size:16px; color:#581845\">empty_like</span> | <span style=\"font-size:16px\">Takes another array and produces an empty array of the same shape and data type</span> |\r\n",
    "| <span style=\"font-size:16px; color:#FFC300\">full</span>       | <span style=\"font-size:16px\">Produce an array of the given shape and data type with all values set to the indicated “fill value”</span> |\r\n",
    "| <span style=\"font-size:16px; color:#FF5733\">full_like</span>  | <span style=\"font-size:16px\">Takes another array and produces a filled array of the same shape and data type</span> |\r\n",
    "| <span style=\"font-size:16px; color:#C70039\">eye</span>        | <span style=\"font-size:16px\">Create a square N × N identity matrix (1s on the diagonal and 0s elsewhere)</span>    |\r\n",
    "| <span style=\"font-size:16px; color:#900C3F\">identity</span>   | <span style=\"font-size:16px\">Same as `eye` but more concise syntax</span>                                            |\r\n",
    "     |\r\n",
    "\n",
    "</pre>"
   ]
  },
  {
   "cell_type": "code",
   "execution_count": 32,
   "id": "e9821567-fbac-47af-b1ee-fcb47e4cc26a",
   "metadata": {},
   "outputs": [
    {
     "name": "stdout",
     "output_type": "stream",
     "text": [
      "[[1 1 1]\n",
      " [1 1 1]]\n"
     ]
    }
   ],
   "source": [
    "\n",
    "# Create an input array\n",
    "a = np.array([[1, 2, 3], [4, 5, 6]])\n",
    "\n",
    "# Create a new array with the same shape as 'a' but filled with ones\n",
    "result = np.ones_like(a)\n",
    "\n",
    "print(result)"
   ]
  },
  {
   "cell_type": "code",
   "execution_count": 33,
   "id": "aadb6090-2a0b-4748-bb4d-106e48818121",
   "metadata": {},
   "outputs": [
    {
     "name": "stdout",
     "output_type": "stream",
     "text": [
      "[[0 0 0]\n",
      " [0 0 0]]\n"
     ]
    }
   ],
   "source": [
    "# Create an input array\n",
    "a = np.array([[1, 2, 3], [4, 5, 6]])\n",
    "\n",
    "# Create a new array with the same shape as 'a' but filled with zeros\n",
    "result = np.zeros_like(a)\n",
    "\n",
    "print(result)"
   ]
  },
  {
   "cell_type": "code",
   "execution_count": 34,
   "id": "34ce641b-6c54-4043-a9c3-d2d5c2c50ba3",
   "metadata": {},
   "outputs": [],
   "source": [
    "# Create an empty array with shape (2, 3)\n",
    "arr = np.empty((2, 3))"
   ]
  },
  {
   "cell_type": "code",
   "execution_count": 35,
   "id": "bc0c27ea-5499-41d5-8722-9387d9e76340",
   "metadata": {},
   "outputs": [
    {
     "data": {
      "text/plain": [
       "array([[ 1.5, -0.1,  3. ],\n",
       "       [ 0. , -3. ,  6.5]])"
      ]
     },
     "execution_count": 35,
     "metadata": {},
     "output_type": "execute_result"
    }
   ],
   "source": [
    "arr"
   ]
  },
  {
   "cell_type": "code",
   "execution_count": 36,
   "id": "b3914c12-77b4-4d2d-ae9d-51336fc4eaf6",
   "metadata": {},
   "outputs": [],
   "source": [
    "# Create an input array\n",
    "a = np.array([[1, 2, 3], [4, 5, 6]])\n",
    "\n",
    "# Create an empty array with the same shape as 'a'\n",
    "arr = np.empty_like(a)"
   ]
  },
  {
   "cell_type": "code",
   "execution_count": 37,
   "id": "27c74ab7-7235-4476-9c2e-3790a07c355b",
   "metadata": {},
   "outputs": [
    {
     "data": {
      "text/plain": [
       "array([[1, 2, 3],\n",
       "       [4, 5, 6]])"
      ]
     },
     "execution_count": 37,
     "metadata": {},
     "output_type": "execute_result"
    }
   ],
   "source": [
    "arr"
   ]
  },
  {
   "cell_type": "code",
   "execution_count": 38,
   "id": "caac54d7-55f6-412c-b35f-d9f418b3478a",
   "metadata": {},
   "outputs": [
    {
     "data": {
      "text/plain": [
       "array([[7, 7, 7],\n",
       "       [7, 7, 7]])"
      ]
     },
     "execution_count": 38,
     "metadata": {},
     "output_type": "execute_result"
    }
   ],
   "source": [
    "# numpy.full(shape, fill_value, dtype=None, order='C')\n",
    "\n",
    "# Create a 2x3 array filled with the value 7\n",
    "arr = np.full((2, 3), 7)\n",
    "arr"
   ]
  },
  {
   "cell_type": "code",
   "execution_count": 39,
   "id": "c4801deb-c9bb-4adb-b2e2-26aa376b496e",
   "metadata": {},
   "outputs": [
    {
     "data": {
      "text/plain": [
       "array([[7, 7, 7],\n",
       "       [7, 7, 7]])"
      ]
     },
     "execution_count": 39,
     "metadata": {},
     "output_type": "execute_result"
    }
   ],
   "source": [
    "# numpy.full_like(a, fill_value, dtype=None, order='K', subok=True, shape=None)\n",
    "# Create an input array\n",
    "a = np.array([[1, 2, 3], [4, 5, 6]])\n",
    "\n",
    "# Create a new array with the same shape as 'a' filled with the value 7\n",
    "arr = np.full_like(a, 7)\n",
    "arr"
   ]
  },
  {
   "cell_type": "code",
   "execution_count": 40,
   "id": "fbc8023e-791b-465f-80bd-7fed08051f82",
   "metadata": {},
   "outputs": [
    {
     "data": {
      "text/plain": [
       "array([[1., 0., 0.],\n",
       "       [0., 1., 0.],\n",
       "       [0., 0., 1.]])"
      ]
     },
     "execution_count": 40,
     "metadata": {},
     "output_type": "execute_result"
    }
   ],
   "source": [
    "# numpy.eye(N, M=None, k=0, dtype=<class 'float'>, order='C')\n",
    "# Create a 3x3 identity matrix\n",
    "arr = np.eye(3)\n",
    "arr"
   ]
  },
  {
   "cell_type": "code",
   "execution_count": 41,
   "id": "265b0068-c93a-462b-9a7e-07ec33681268",
   "metadata": {},
   "outputs": [
    {
     "data": {
      "text/plain": [
       "array([[1., 0., 0., 0.],\n",
       "       [0., 1., 0., 0.],\n",
       "       [0., 0., 1., 0.],\n",
       "       [0., 0., 0., 1.]])"
      ]
     },
     "execution_count": 41,
     "metadata": {},
     "output_type": "execute_result"
    }
   ],
   "source": [
    "# numpy.identity(n, dtype=None)\n",
    "\n",
    "# Create a 4x4 identity matrix\n",
    "arr = np.identity(4)\n",
    "arr"
   ]
  },
  {
   "cell_type": "markdown",
   "id": "b852649b-6062-4b09-ab7f-8f2da3859b57",
   "metadata": {},
   "source": [
    "## NUMPY DATA TYPES\n"
   ]
  },
  {
   "cell_type": "markdown",
   "id": "a841eb1a-2898-4f14-b6e3-a120697e5f86",
   "metadata": {},
   "source": [
    "| Type                      | Type code | Description                                                                                                      |\r\n",
    "|---------------------------|-----------|------------------------------------------------------------------------------------------------------------------|\r\n",
    "| <font size=\"4\" color=\"#FF5733\">int8, uint8</font>               | <font size=\"4\" color=\"#FF5733\">i1, u1</font>      | <font size=\"4\" color=\"#FF5733\">🌟 Signed and unsigned 8-bit (1 byte) integer types</font>                        |\r\n",
    "| <font size=\"4\" color=\"#C70039\">int16, uint16</font>             | <font size=\"4\" color=\"#C70039\">i2, u2</font>      | <font size=\"4\" color=\"#C70039\">🚀 Signed and unsigned 16-bit integer types</font>                                 |\r\n",
    "| <font size=\"4\" color=\"#900C3F\">int32, uint32</font>             | <font size=\"4\" color=\"#900C3F\">i4, u4</font>      | <font size=\"4\" color=\"#900C3F\">💥 Signed and unsigned 32-bit integer types</font>                                 |\r\n",
    "| <font size=\"4\" color=\"#581845\">int64, uint64</font>             | <font size=\"4\" color=\"#581845\">i8, u8</font>      | <font size=\"4\" color=\"#581845\">🎉 Signed and unsigned 64-bit integer types</font>                                 |\r\n",
    "| <font size=\"4\" color=\"#FFC300\">float16</font>                   | <font size=\"4\" color=\"#FFC300\">f2</font>          | <font size=\"4\" color=\"#FFC300\">🌈 Half-precision floating point</font>                                             |\r\n",
    "| <font size=\"4\" color=\"#FF5733\">float32</font>                   | <font size=\"4\" color=\"#FF5733\">f4 or f</font>     | <font size=\"4\" color=\"#FF5733\">🌊 Standard single-precision floating point</font>                                  |\r\n",
    "| <font size=\"4\" color=\"#C70039\">float64</font>                   | <font size=\"4\" color=\"#C70039\">f8 or d</font>     | <font size=\"4\" color=\"#C70039\">🎆 Standard double-precision floating point</font>                                  |\r\n",
    "| <font size=\"4\" color=\"#900C3F\">float128</font>                  | <font size=\"4\" color=\"#900C3F\">f16 or g</font>    | <font size=\"4\" color=\"#900C3F\">🌠 Extended-precision floating point</font>                                         |\r\n",
    "| <font size=\"4\" color=\"#581845\">complex64,</font>                | <font size=\"4\" color=\"#581845\">c8</font>          | <font size=\"4\" color=\"#581845\">🔮 Complex numbers represented by two 32 floats</font>                               |\r\n",
    "| <font size=\"4\" color=\"#FFC300\">complex128,</font>               | <font size=\"4\" color=\"#FFC300\">c16</font>         | <font size=\"4\" color=\"#FFC300\">🌀 Complex numbers represented by two 64 floats</font>                               |\r\n",
    "| <font size=\"4\" color=\"#FF5733\">complex256</font>                | <font size=\"4\" color=\"#FF5733\">c32</font>         | <font size=\"4\" color=\"#FF5733\">🌌 Complex numbers represented by two 128 floats</font>                              |\r\n",
    "| <font size=\"4\" color=\"#C70039\">bool</font>                      | <font size=\"4\" color=\"#C70039\">?</font>           | <font size=\"4\" color=\"#C70039\">💡 Boolean type storing True and False values</font>                                 |\r\n",
    "| <font size=\"4\" color=\"#900C3F\">object</font>                    | <font size=\"4\" color=\"#900C3F\">O</font>           | <font size=\"4\" color=\"#900C3F\">🎨 Python object type; a value can be any Python object</font>                       |\r\n",
    "| <font size=\"4\" color=\"#581845\">string_</font>                   | <font size=\"4\" color=\"#581845\">S</font>           | <font size=\"4\" color=\"#581845\">📝 Fixed-length ASCII string type (1 byte per character); e.g., 'S10' to create a string data type with length 10</font> |\r\n",
    "| <font size=\"4\" color=\"#FFC300\">unicode_</font>                  | <font size=\"4\" color=\"#FFC300\">U</font>           | <font size=\"4\" color=\"#FFC300\">📚 Fixed-length Unicode type (number of bytes platform-specific); e.g., 'U10' for Unicode string with length 10</font>   |\r\n"
   ]
  },
  {
   "cell_type": "code",
   "execution_count": 42,
   "id": "273cadb1-378b-4f2b-8daa-da94454a663c",
   "metadata": {},
   "outputs": [],
   "source": [
    "arr3d = np.array([[[1, 2, 3], [4, 5, 6]], [[7, 8, 9], [10, 11, 12]]])"
   ]
  },
  {
   "cell_type": "code",
   "execution_count": 43,
   "id": "a4765514-ef35-486b-8219-df4227d2dc13",
   "metadata": {},
   "outputs": [
    {
     "data": {
      "text/plain": [
       "array([[[ 1,  2,  3],\n",
       "        [ 4,  5,  6]],\n",
       "\n",
       "       [[ 7,  8,  9],\n",
       "        [10, 11, 12]]])"
      ]
     },
     "execution_count": 43,
     "metadata": {},
     "output_type": "execute_result"
    }
   ],
   "source": [
    "arr3d"
   ]
  },
  {
   "cell_type": "code",
   "execution_count": null,
   "id": "68d9919b-a187-4c99-b52c-33e2673ffcd7",
   "metadata": {},
   "outputs": [],
   "source": []
  },
  {
   "cell_type": "markdown",
   "id": "26d2133f-cce8-418b-9685-18825dffd7f1",
   "metadata": {},
   "source": [
    "## Pseudorandom Number Generation"
   ]
  },
  {
   "cell_type": "code",
   "execution_count": 44,
   "id": "2113e78f-2134-4670-abfd-9ed7fd7e117d",
   "metadata": {},
   "outputs": [],
   "source": [
    "rng = np.random.default_rng(seed=12345)"
   ]
  },
  {
   "cell_type": "code",
   "execution_count": 45,
   "id": "46be0f7f-9739-4c12-878d-0e7f128374d4",
   "metadata": {},
   "outputs": [],
   "source": [
    "data = rng.standard_normal((2,3))"
   ]
  },
  {
   "cell_type": "code",
   "execution_count": 46,
   "id": "33d9d609-5640-41c5-9f29-baab2aefc142",
   "metadata": {},
   "outputs": [
    {
     "data": {
      "text/plain": [
       "array([[-1.42382504,  1.26372846, -0.87066174],\n",
       "       [-0.25917323, -0.07534331, -0.74088465]])"
      ]
     },
     "execution_count": 46,
     "metadata": {},
     "output_type": "execute_result"
    }
   ],
   "source": [
    "data"
   ]
  },
  {
   "cell_type": "code",
   "execution_count": 48,
   "id": "57963213-83f8-43d0-bb14-43453c9529f7",
   "metadata": {},
   "outputs": [
    {
     "data": {
      "text/plain": [
       "numpy.random._generator.Generator"
      ]
     },
     "execution_count": 48,
     "metadata": {},
     "output_type": "execute_result"
    }
   ],
   "source": [
    "type(rng)"
   ]
  },
  {
   "cell_type": "markdown",
   "id": "a6f75a88-d22b-49c6-9b07-7e49b2f3301c",
   "metadata": {},
   "source": [
    "## NumPy random number generator methods"
   ]
  },
  {
   "cell_type": "markdown",
   "id": "6c5b063a-4af0-4609-9bb6-4ae9ef9700c1",
   "metadata": {},
   "source": [
    "| Method            | Description                                                                                             |\r\n",
    "|-------------------|---------------------------------------------------------------------------------------------------------|\r\n",
    "| <span style=\"font-size:16px; color:#FF5733\">**permutation**</span>   | <span style=\"font-size:16px\">Return a random permutation of a sequence, or return a permuted range</span> |\r\n",
    "| <span style=\"font-size:16px; color:#C70039\">**shuffle**</span>       | <span style=\"font-size:16px\">Randomly permute a sequence in place</span>                                 |\r\n",
    "| <span style=\"font-size:16px; color:#900C3F\">**uniform**</span>       | <span style=\"font-size:16px\">Draw samples from a uniform distribution</span>                              |\r\n",
    "| <span style=\"font-size:16px; color:#581845\">**integers**</span>      | <span style=\"font-size:16px\">Draw random integers from a given low-to-high range</span>                   |\r\n",
    "| <span style=\"font-size:16px; color:#FFC300\">**standard_normal**</span> | <span style=\"font-size:16px\">Draw samples from a normal distribution with mean 0 and standard deviation 1</span> |\r\n",
    "| <span style=\"font-size:16px; color:#FF5733\">**binomial**</span>      | <span style=\"font-size:16px\">Draw samples from a binomial distribution</span>                               |\r\n",
    "| <span style=\"font-size:16px; color:#C70039\">**normal**</span>        | <span style=\"font-size:16px\">Draw samples from a normal (Gaussian) distribution</span>                     |\r\n",
    "| <span style=\"font-size:16px; color:#900C3F\">**beta**</span>          | <span style=\"font-size:16px\">Draw samples from a beta distribution</span>                                   |\r\n",
    "| <span style=\"font-size:16px; color:#581845\">**chisquare**</span>     | <span style=\"font-size:16px\">Draw samples from a chi-square distribution</span>                              |\r\n",
    "| <span style=\"font-size:16px; color:#FFC300\">**gamma**</span>         | <span style=\"font-size:16px\">Draw samples from a gamma distribution</span>                                   |\r\n",
    "| <span style=\"font-size:16px; color:#FF5733\">**uniform**</span>       | <span style=\"font-size:16px\">Draw samples from a uniform [0, 1) distribution</span>                           |\r\n"
   ]
  },
  {
   "cell_type": "markdown",
   "id": "7dd2da9e-7f0b-4da9-8716-382b82d87262",
   "metadata": {},
   "source": [
    "1. **`numpy.random.permutation`**:\n",
    "   - **Description**: Returns a random permutation of a sequence or array.\n",
    "   - **Example**: \n",
    "     ```python\n",
    "     import numpy as np\n",
    "     arr = np.array([1, 2, 3, 4, 5])\n",
    "     permuted_arr = np.random.permutation(arr)\n",
    "     print(permuted_arr)\n",
    "     ```\n",
    "   - **Explanation**: This function shuffles the elements of the input array randomly to generate a new permutation."
   ]
  },
  {
   "cell_type": "code",
   "execution_count": 57,
   "id": "a4eb38dd-276a-4548-a68e-4285260bd5d2",
   "metadata": {},
   "outputs": [],
   "source": [
    "arr = np.array([1, 2, 3, 4, 5])"
   ]
  },
  {
   "cell_type": "code",
   "execution_count": 58,
   "id": "fac62411-80bd-4f1a-ae13-91e5d7c5e4c9",
   "metadata": {},
   "outputs": [
    {
     "data": {
      "text/plain": [
       "array([1, 2, 3, 4, 5])"
      ]
     },
     "execution_count": 58,
     "metadata": {},
     "output_type": "execute_result"
    }
   ],
   "source": [
    "arr"
   ]
  },
  {
   "cell_type": "code",
   "execution_count": 59,
   "id": "6d1a977b-c7eb-4482-84eb-5199e6611839",
   "metadata": {},
   "outputs": [],
   "source": [
    "permuted_arr = np.random.permutation(arr)"
   ]
  },
  {
   "cell_type": "code",
   "execution_count": 60,
   "id": "9eee5e9c-8aae-41b7-bae1-3277a824a4fc",
   "metadata": {},
   "outputs": [
    {
     "name": "stdout",
     "output_type": "stream",
     "text": [
      "[5 3 1 4 2]\n"
     ]
    }
   ],
   "source": [
    "print(permuted_arr)"
   ]
  },
  {
   "cell_type": "code",
   "execution_count": 61,
   "id": "77daade0-4095-4416-87e9-86ab7fe4076a",
   "metadata": {},
   "outputs": [
    {
     "name": "stdout",
     "output_type": "stream",
     "text": [
      "[1 2 3 4 5]\n"
     ]
    }
   ],
   "source": [
    "print(arr)"
   ]
  },
  {
   "cell_type": "markdown",
   "id": "9c365de3-035c-45f7-a0dd-fe3477689d59",
   "metadata": {},
   "source": [
    "2. **`numpy.random.shuffle`**:\n",
    "   - **Description**: Randomly permutes the elements of an array in place.\n",
    "   - **Example**:\n",
    "     ```python\n",
    "     import numpy as np\n",
    "     arr = np.array([1, 2, 3, 4, 5])\n",
    "     np.random.shuffle(arr)\n",
    "     print(arr)\n",
    "     ```\n",
    "   - **Explanation**: This function shuffles the elements of the input array in place, modifying the original array."
   ]
  },
  {
   "cell_type": "code",
   "execution_count": 62,
   "id": "279c83cc-a68f-4967-b51a-17a81621a666",
   "metadata": {},
   "outputs": [
    {
     "name": "stdout",
     "output_type": "stream",
     "text": [
      "[4 5 3 2 1]\n"
     ]
    }
   ],
   "source": [
    "arr = np.array([1, 2, 3, 4, 5])\n",
    "np.random.shuffle(arr)\n",
    "print(arr)"
   ]
  },
  {
   "cell_type": "markdown",
   "id": "84260aa2-1563-416d-8ef9-7af2512fe7d6",
   "metadata": {},
   "source": [
    "\n",
    "3. **`numpy.random.uniform`**:\n",
    "   - **Description**: Generates random samples from a uniform distribution.\n",
    "   - **Example**:\n",
    "     ```python\n",
    "     import numpy as np\n",
    "     uniform_samples = np.random.uniform(low=0, high=1, size=(3, 3))\n",
    "     print(uniform_samples)\n",
    "     ```\n",
    "   - **Explanation**: This function generates random numbers from a uniform distribution over the specified interval `[low, high)`."
   ]
  },
  {
   "cell_type": "code",
   "execution_count": 64,
   "id": "1fa750c2-71a0-4f3d-9bc8-764c23e489bf",
   "metadata": {},
   "outputs": [
    {
     "name": "stdout",
     "output_type": "stream",
     "text": [
      "[[0.49170375 0.16953278 0.2937411 ]\n",
      " [0.10099476 0.93853109 0.58406077]\n",
      " [0.77017688 0.039145   0.59305344]]\n"
     ]
    }
   ],
   "source": [
    "uniform_samples = np.random.uniform(low=0, high=1, size=(3, 3))\n",
    "print(uniform_samples)"
   ]
  },
  {
   "cell_type": "code",
   "execution_count": 65,
   "id": "faa6966c-0fe2-4a1e-8d56-70c34487b8a1",
   "metadata": {},
   "outputs": [
    {
     "name": "stdout",
     "output_type": "stream",
     "text": [
      "[[73.43258392 30.42243072 67.89230345]\n",
      " [21.05866978 72.65469218 52.34596668]\n",
      " [13.80844779 85.25192506 24.80786963]]\n"
     ]
    }
   ],
   "source": [
    "uniform_samples = np.random.uniform(low=10, high=101, size=(3, 3))\n",
    "print(uniform_samples)"
   ]
  },
  {
   "cell_type": "markdown",
   "id": "84cba4ea-cfac-4d10-8f63-d37ab4c97912",
   "metadata": {},
   "source": [
    "4. **`numpy.random.randint`**:\n",
    "   - **Description**: Generates random integers from a low (inclusive) to high (exclusive) range.\n",
    "   - **Example**:\n",
    "     ```python\n",
    "     import numpy as np\n",
    "     random_integers = np.random.randint(low=1, high=10, size=(3, 3))\n",
    "     print(random_integers)\n",
    "     ```\n",
    "   - **Explanation**: This function generates random integers within the specified range `[low, high)`."
   ]
  },
  {
   "cell_type": "code",
   "execution_count": 66,
   "id": "40dd5c1d-2e34-42e1-861c-4156caa1753f",
   "metadata": {},
   "outputs": [
    {
     "name": "stdout",
     "output_type": "stream",
     "text": [
      "[[6 6 8]\n",
      " [7 7 7]\n",
      " [5 9 8]]\n"
     ]
    }
   ],
   "source": [
    "random_integers = np.random.randint(low=1, high=10, size=(3, 3))\n",
    "print(random_integers)"
   ]
  },
  {
   "cell_type": "markdown",
   "id": "dc8638aa-6fdd-4171-bf81-adb8744dc7ce",
   "metadata": {},
   "source": [
    "5. **`numpy.random.normal`**:\n",
    "   - **Description**: Generates random samples from a normal (Gaussian) distribution.\n",
    "   - **Example**:\n",
    "     ```python\n",
    "     import numpy as np\n",
    "     normal_samples = np.random.normal(loc=0, scale=1, size=(3, 3))\n",
    "     print(normal_samples)\n",
    "     ```\n",
    "   - **Explanation**: This function generates random numbers from a normal distribution with the specified mean (`loc`) and standard deviation (`scale`)"
   ]
  },
  {
   "cell_type": "code",
   "execution_count": 72,
   "id": "74c73dc5-443c-4aca-a441-32e267911cba",
   "metadata": {},
   "outputs": [
    {
     "name": "stdout",
     "output_type": "stream",
     "text": [
      "[[ 0.88537777  0.09327039 -0.66050914]\n",
      " [ 0.68718319  0.75025936  0.27156922]\n",
      " [-0.08922601 -1.02329877 -0.88109868]]\n"
     ]
    }
   ],
   "source": [
    "normal_samples = np.random.normal(loc=0, scale=1, size=(3, 3))\n",
    "print(normal_samples)"
   ]
  },
  {
   "cell_type": "markdown",
   "id": "7cc83b78-d119-4242-bbf2-aa70f9f3d0fd",
   "metadata": {},
   "source": [
    "**`numpy.random.standard_normal`**:\n",
    "   - **Description**: Generates random samples from a normal (Gaussian) distribution with mean 0 and std 1."
   ]
  },
  {
   "cell_type": "code",
   "execution_count": 74,
   "id": "fbe0fad2-9093-4630-a690-d4296cdf6c39",
   "metadata": {},
   "outputs": [
    {
     "data": {
      "text/plain": [
       "array([[-0.17905799, -1.02580963,  0.9463145 ],\n",
       "       [-0.21252871,  0.47082558,  0.09138804],\n",
       "       [ 0.24434963, -2.02455261, -0.09507126]])"
      ]
     },
     "execution_count": 74,
     "metadata": {},
     "output_type": "execute_result"
    }
   ],
   "source": [
    "std_normal = np.random.standard_normal((3,3))\n",
    "std_normal"
   ]
  },
  {
   "cell_type": "markdown",
   "id": "e727fa69-5dfc-480f-99f6-ba20b09c188e",
   "metadata": {},
   "source": [
    "6. **`numpy.random.beta`**:\n",
    "   - **Description**: Draws samples from a beta distribution.\n",
    "   - **Example**: \n",
    "     ```python\n",
    "     import numpy as np\n",
    "     beta_samples = np.random.beta(a=2, b=5, size=(3, 3))\n",
    "     print(beta_samples)\n",
    "     ```\n",
    "   - **Explanation**: This function generates random numbers from a beta distribution with parameters `a` (alpha) and `b` (beta)."
   ]
  },
  {
   "cell_type": "code",
   "execution_count": 69,
   "id": "71ffaf86-04e3-4620-9f3e-c00a0a1a0ac1",
   "metadata": {},
   "outputs": [
    {
     "name": "stdout",
     "output_type": "stream",
     "text": [
      "[[0.37829309 0.31655357 0.06528242]\n",
      " [0.02051174 0.33523318 0.29773229]\n",
      " [0.09455903 0.46069798 0.4701953 ]]\n"
     ]
    }
   ],
   "source": [
    "beta_samples = np.random.beta(a=2, b=5, size=(3, 3))\n",
    "print(beta_samples)"
   ]
  },
  {
   "cell_type": "markdown",
   "id": "cc1eaeed-b131-4b12-aea9-e7f8c90272c3",
   "metadata": {},
   "source": [
    "7. **`numpy.random.gamma`**:\n",
    "   - **Description**: Draws samples from a gamma distribution.\n",
    "   - **Example**:\n",
    "     ```python\n",
    "     import numpy as np\n",
    "     gamma_samples = np.random.gamma(shape=2, scale=2, size=(3, 3))\n",
    "     print(gamma_samples)\n",
    "     ```\n",
    "   - **Explanation**: This function generates random numbers from a gamma distribution with parameters `shape` and `scale`.\n"
   ]
  },
  {
   "cell_type": "code",
   "execution_count": 70,
   "id": "dc77c4c6-3795-46ce-ab0d-50d4152e9433",
   "metadata": {},
   "outputs": [
    {
     "name": "stdout",
     "output_type": "stream",
     "text": [
      "[[ 5.96603706  6.20411076 10.08789578]\n",
      " [ 0.52430637  0.81798641 10.63144747]\n",
      " [ 3.64893844  8.74544584  1.16512378]]\n"
     ]
    }
   ],
   "source": [
    "gamma_samples = np.random.gamma(shape=2, scale=2, size=(3, 3))\n",
    "print(gamma_samples)"
   ]
  },
  {
   "cell_type": "markdown",
   "id": "6a5bcf54-4f1d-4f92-9037-61585225e833",
   "metadata": {},
   "source": [
    "7. **`numpy.random.chisquare`**:\n",
    "   - **Description**: Draws samples from a chi-square distribution.\n",
    "   - **Example**:\n",
    "     ```python\n",
    "     import numpy as np\n",
    "     chi_square_samples = np.random.chisquare(df=2, size=(3, 3))\n",
    "     print(chi_square_samples)\n",
    "     ```\n",
    "   - **Explanation**: This function generates random numbers from a chi-square distribution with `df` degrees of freedom."
   ]
  },
  {
   "cell_type": "code",
   "execution_count": 71,
   "id": "c5f61919-4f38-4cb1-972f-996d357a7e6e",
   "metadata": {},
   "outputs": [
    {
     "name": "stdout",
     "output_type": "stream",
     "text": [
      "[[3.04675209 1.40501872 3.81307714]\n",
      " [0.20653739 0.95511709 0.62500024]\n",
      " [2.14480407 2.13536789 0.755872  ]]\n"
     ]
    }
   ],
   "source": [
    "chi_square_samples = np.random.chisquare(df=2, size=(3, 3))\n",
    "print(chi_square_samples)"
   ]
  },
  {
   "cell_type": "markdown",
   "id": "4d466cfa-584c-42ba-a157-91b928629b95",
   "metadata": {},
   "source": [
    "# Using `default_rng` with Seed in NumPy\r\n",
    "\r\n",
    "The `default_rng` function in NumPy version 1.17 and later allows you to create an instance of a new random number generator (RNG) with a specified seed. Setting a seed ensures reproducibility of random number generation across different runs of your code.\r\n",
    "\r\n",
    "## Example Usage\r\n",
    "\r\n",
    "To use `default_rng` with a seed, follow these steps:\r\n",
    "\r\n",
    "1. **Import NumPy**: Import the NumPy library.\r\n",
    "\r\n",
    "    ```python\r\n",
    "    import numpy as np\r\n",
    "    ```\r\n",
    "\r\n",
    "2. **Create RNG Instance with Seed**: Use `np.random.default_rng()` with a specified seed to create an instance of the RNG.\r\n",
    "\r\n",
    "    ```python\r\n",
    "    seed_value = 42  # Set the seed value\r\n",
    "    rng = np.random.default_rng(seed_value)\r\n",
    "    ```\r\n",
    "\r\n",
    "3. **Generate Random Numbers**: Use the created RNG instance to generate random numbers.\r\n",
    "\r\n",
    "    ```python\r\n",
    "    random_numbers = rng.random(size=10)\r\n",
    "    ```\r\n",
    "\r\n",
    "4. **Print Results**: Print the generated random numbers.\r\n",
    "\r\n",
    "    ```python\r\n",
    "    print(random_numbers)\r\n",
    "    ```\r\n",
    "\r\n",
    "## Explanation\r\n",
    "\r\n",
    "- **Setting Seed**: By providing a seed value to `default_rng`, you ensure that the random number generation process starts from a known initial state. This makes the sequence of random numbers deterministic and reproducible.\r\n",
    "\r\n",
    "- **Advantages of Seeding**:\r\n",
    "  - Reproducibility: Using a seed ensures that the same sequence of random numbers is generated every time the code is run with the same seed value.\r\n",
    "  - Debugging: Seeding allows you to debug your code more effectively by ensuring that random number generation is consistent across different runs.\r\n",
    "\r\n",
    "- **Seed Value**: The seed value can be any integer. Using the same seed value will produce the same sequence of random numbers. However, changing the seed value will result in a different sequence of random numbers.\r\n",
    "\r\n",
    "- **Random Number Generation**: After creating the RNG instance with a seed, you can generate random numbers using methods like `random`, `uniform`, `normal`, etc. The generated numbers will be deterministic and reproducible based on the specified s\r\n",
    "mpared to the legacy `np.random` module.\r\n"
   ]
  },
  {
   "cell_type": "code",
   "execution_count": 75,
   "id": "ae4f3113-ddaf-4e8e-b879-be4e8ed9b64d",
   "metadata": {},
   "outputs": [],
   "source": [
    "seed_value = 100\n",
    "rng = np.random.default_rng(seed_value)"
   ]
  },
  {
   "cell_type": "code",
   "execution_count": 76,
   "id": "8261b198-e2ed-412c-9e28-b3578a037406",
   "metadata": {},
   "outputs": [
    {
     "data": {
      "text/plain": [
       "array([0.83498163, 0.59655403, 0.28886324, 0.04295157, 0.9736544 ,\n",
       "       0.5964717 , 0.79026316, 0.91033938, 0.68815445, 0.18999147])"
      ]
     },
     "execution_count": 76,
     "metadata": {},
     "output_type": "execute_result"
    }
   ],
   "source": [
    "rng.random(size=10)"
   ]
  },
  {
   "cell_type": "code",
   "execution_count": 78,
   "id": "b1bf6ebb-40a8-4ffd-bd7c-6d960ea787d9",
   "metadata": {},
   "outputs": [
    {
     "data": {
      "text/plain": [
       "array([[10.94950649,  6.13779717,  8.01504344],\n",
       "       [ 7.18905783,  9.53780898,  8.62230583],\n",
       "       [13.03021156,  8.79365691, 13.42736898]])"
      ]
     },
     "execution_count": 78,
     "metadata": {},
     "output_type": "execute_result"
    }
   ],
   "source": [
    "rng.normal(loc=10, scale=2, size=(3,3))"
   ]
  },
  {
   "cell_type": "code",
   "execution_count": null,
   "id": "10283639-d56d-49b5-9075-161334222e56",
   "metadata": {},
   "outputs": [],
   "source": []
  },
  {
   "cell_type": "markdown",
   "id": "004821eb-f3fb-4fc6-ad71-2d5e6c870277",
   "metadata": {},
   "source": [
    "# Some unary universal functions-----\r\n"
   ]
  },
  {
   "cell_type": "markdown",
   "id": "d363437e-00de-44d1-9380-0a08a0658f13",
   "metadata": {},
   "source": [
    "| Function       | Description                                                                                                   |\r\n",
    "|----------------|---------------------------------------------------------------------------------------------------------------|\r\n",
    "| **<span style=\"font-size:18px; color:#FF5733\">abs, fabs</span>**      | <span style=\"font-size:18px\">Compute the absolute value element-wise for integer, floating-point, or complex values</span>                        |\r\n",
    "| **<span style=\"font-size:18px; color:#C70039\">sqrt</span>**            | <span style=\"font-size:18px\">Compute the square root of each element (equivalent to arr ** 0.5)</span>                                             |\r\n",
    "| **<span style=\"font-size:18px; color:#900C3F\">square</span>**          | <span style=\"font-size:18px\">Compute the square of each element (equivalent to arr ** 2)</span>                                                     |\r\n",
    "| **<span style=\"font-size:18px; color:#581845\">exp</span>**             | <span style=\"font-size:18px\">Compute the exponent ex of each element</span>                                                                             |\r\n",
    "| **<span style=\"font-size:18px; color:#FFC300\">log, log10,</span>**     | <span style=\"font-size:18px\">Natural logarithm (base e), log base 10, log base 2, and log(1 + x), respectively</span>                                   |\r\n",
    "| **<span style=\"font-size:18px; color:#FFC300\">log2, log1p</span>**     |                                                                                                                                                           |\r\n",
    "| **<span style=\"font-size:18px; color:#581845\">sign</span>**            | <span style=\"font-size:18px\">Compute the sign of each element: 1 (positive), 0 (zero), or –1 (negative)</span>                                         |\r\n",
    "| **<span style=\"font-size:18px; color:#900C3F\">ceil</span>**            | <span style=\"font-size:18px\">Compute the ceiling of each element (i.e., the smallest integer greater than or equal to that number)</span>              |\r\n",
    "| **<span style=\"font-size:18px; color:#C70039\">floor</span>**           | <span style=\"font-size:18px\">Compute the floor of each element (i.e., the largest integer less than or equal to each element)</span>                 |\r\n",
    "| **<span style=\"font-size:18px; color:#FF5733\">rint</span>**            | <span style=\"font-size:18px\">Round elements to the nearest integer, preserving the dtype</span>                                                         |\r\n",
    "| **<span style=\"font-size:18px; color:#FF5733\">modf</span>**            | <span style=\"font-size:18px\">Return fractional and integral parts of array as separate arrays</span>                                                  |\r\n",
    "| **<span style=\"font-size:18px; color:#C70039\">isnan</span>**           | <span style=\"font-size:18px\">Return Boolean array indicating whether each value is NaN (Not a Number)</span>                                            |\r\n",
    "| **<span style=\"font-size:18px; color:#900C3F\">isfinite,</span>**       | <span style=\"font-size:18px\">Return Boolean array indicating whether each element is finite (non-inf, non-NaN) or infinite,</span>                      |\r\n",
    "| **<span style=\"font-size:18px; color:#FF5733\">isinf</span>**           | <span style=\"font-size:18px\">respectively</span>                                                                                                          |\r\n",
    "| **<span style=\"font-size:18px; color:#581845\">cos, cosh,</span>**      | <span style=\"font-size:18px\">Regular and hyperbolic trigonometric functions</span>                                                                       |\r\n",
    "| **<span style=\"font-size:18px; color:#FFC300\">sin, sinh,</span>**      |                                                                                                                                                           |\r\n",
    "| **<span style=\"font-size:18px; color:#FF5733\">tan, tanh</span>**       |                                                                                                                                                           |\r\n",
    "| **<span style=\"font-size:18px; color:#C70039\">arccos,</span>**         | <span style=\"font-size:18px\">Inverse trigonometric functions</span>                                                                                        |\r\n",
    "| **<span style=\"font-size:18px; color:#900C3F\">arccosh,</span>**        |                                                                                                                                                           |\r\n",
    "| **<span style=\"font-size:18px; color:#581845\">arcsin,</span>**         |                                                                                                                                                           |\r\n",
    "| **<span style=\"font-size:18px; color:#FFC300\">arcsinh,</span>**        |                                                                                                                                                           |\r\n",
    "| **<span style=\"font-size:18px; color:#FF5733\">arctan,</span>**         |                                                                                                                                                           |\r\n",
    "| **<span style=\"font-size:18px; color:#FF5733\">arctanh</span>**         |                                                                                                                                                           |\r\n",
    "| **<span style=\"font-size:18px; color:#C70039\">logical_not</span>**     | <span style=\"font-size:18px\">Compute truth value of not x element-wise (equivalent to ~arr)</span>                                                       |\r\n"
   ]
  },
  {
   "cell_type": "markdown",
   "id": "6e4c5e45-9a14-4d05-8144-f04f4f8e1263",
   "metadata": {},
   "source": [
    "# Some binary universal functions\n"
   ]
  },
  {
   "cell_type": "markdown",
   "id": "99959a5a-4df8-492f-9341-81fe9b8edec9",
   "metadata": {},
   "source": [
    "| Function        | Description                                                                                           |\r\n",
    "|-----------------|-------------------------------------------------------------------------------------------------------|\r\n",
    "| **<span style=\"font-size:18px; color:#FF5733\">add</span>**             | <span style=\"font-size:18px\">Add corresponding elements in arrays</span>                                 |\r\n",
    "| **<span style=\"font-size:18px; color:#C70039\">subtract</span>**        | <span style=\"font-size:18px\">Subtract elements in second array from first array</span>                   |\r\n",
    "| **<span style=\"font-size:18px; color:#900C3F\">multiply</span>**        | <span style=\"font-size:18px\">Multiply array elements</span>                                             |\r\n",
    "| **<span style=\"font-size:18px; color:#581845\">divide, floor_divide</span>** | <span style=\"font-size:18px\">Divide or floor divide (truncating the remainder)</span>                   |\r\n",
    "| **<span style=\"font-size:18px; color:#FFC300\">power</span>**            | <span style=\"font-size:18px\">Raise elements in first array to powers indicated in second array</span>    |\r\n",
    "| **<span style=\"font-size:18px; color:#FF5733\">maximum, fmax</span>**    | <span style=\"font-size:18px\">Element-wise maximum; fmax ignores NaN</span>                               |\r\n",
    "| **<span style=\"font-size:18px; color:#C70039\">minimum, fmin</span>**    | <span style=\"font-size:18px\">Element-wise minimum; fmin ignores NaN</span>                               |\r\n",
    "| **<span style=\"font-size:18px; color:#900C3F\">mod</span>**              | <span style=\"font-size:18px\">Element-wise modulus (remainder of division)</span>                         |\r\n",
    "| **<span style=\"font-size:18px; color:#581845\">copysign</span>**         | <span style=\"font-size:18px\">Copy sign of values in second argument to values in first argument</span>   |\r\n",
    "| **<span style=\"font-size:18px; color:#FFC300\">greater, greater_equal, less, less_equal, equal, not_equal</span>** | <span style=\"font-size:18px\">Perform element-wise comparison, yielding Boolean array (equivalent to infix operators >, >=, <, <=, ==, !=)</span> |\r\n",
    "| **<span style=\"font-size:18px; color:#FF5733\">logical_and</span>**      | <span style=\"font-size:18px\">Compute element-wise truth value of AND (&) logical operation</span>         |\r\n",
    "| **<span style=\"font-size:18px; color:#C70039\">logical_or</span>**       | <span style=\"font-size:18px\">Compute element-wise truth value of OR (|) logical operation</span>          |\r\n",
    "| **<span style=\"font-size:18px; color:#900C3F\">logical_xor</span>**      | <span style=\"font-size:18px\">Compute element-wise truth value of XOR (^) logical operation</span>         |\r\n"
   ]
  },
  {
   "cell_type": "code",
   "execution_count": 79,
   "id": "35f4e177-f87e-413e-9a8a-ba874dd67905",
   "metadata": {},
   "outputs": [],
   "source": [
    "arr = np.arange(10)"
   ]
  },
  {
   "cell_type": "code",
   "execution_count": 80,
   "id": "c6075b37-10da-4205-9518-e640f3b378d5",
   "metadata": {},
   "outputs": [
    {
     "data": {
      "text/plain": [
       "array([0, 1, 2, 3, 4, 5, 6, 7, 8, 9])"
      ]
     },
     "execution_count": 80,
     "metadata": {},
     "output_type": "execute_result"
    }
   ],
   "source": [
    "arr"
   ]
  },
  {
   "cell_type": "code",
   "execution_count": 81,
   "id": "4c53c46a-9092-4577-998a-b0cf18de2432",
   "metadata": {},
   "outputs": [
    {
     "data": {
      "text/plain": [
       "array([0.        , 1.        , 1.41421356, 1.73205081, 2.        ,\n",
       "       2.23606798, 2.44948974, 2.64575131, 2.82842712, 3.        ])"
      ]
     },
     "execution_count": 81,
     "metadata": {},
     "output_type": "execute_result"
    }
   ],
   "source": [
    "np.sqrt(arr)"
   ]
  },
  {
   "cell_type": "code",
   "execution_count": 82,
   "id": "3021f16e-1605-4421-87bb-8efceacd0ffb",
   "metadata": {},
   "outputs": [
    {
     "data": {
      "text/plain": [
       "array([1.00000000e+00, 2.71828183e+00, 7.38905610e+00, 2.00855369e+01,\n",
       "       5.45981500e+01, 1.48413159e+02, 4.03428793e+02, 1.09663316e+03,\n",
       "       2.98095799e+03, 8.10308393e+03])"
      ]
     },
     "execution_count": 82,
     "metadata": {},
     "output_type": "execute_result"
    }
   ],
   "source": [
    "np.exp(arr)"
   ]
  },
  {
   "cell_type": "code",
   "execution_count": 83,
   "id": "d0cd286c-f03a-4f78-90d0-bc78f9092f33",
   "metadata": {},
   "outputs": [],
   "source": [
    "x = rng.standard_normal(8)\n",
    "y = rng.standard_normal(8)"
   ]
  },
  {
   "cell_type": "code",
   "execution_count": 84,
   "id": "c26ee629-8252-45d5-aecb-d12fe4d3d3c9",
   "metadata": {},
   "outputs": [
    {
     "data": {
      "text/plain": [
       "array([-0.40624919,  0.27140952,  0.0398402 ,  0.01151832, -1.12717801,\n",
       "        0.33471298,  0.38389155,  0.23783551])"
      ]
     },
     "execution_count": 84,
     "metadata": {},
     "output_type": "execute_result"
    }
   ],
   "source": [
    "x"
   ]
  },
  {
   "cell_type": "code",
   "execution_count": 85,
   "id": "2e44accf-a17f-4dce-a848-a105d6832ac3",
   "metadata": {},
   "outputs": [
    {
     "data": {
      "text/plain": [
       "array([ 0.62141167, -0.81924555, -0.29757921, -0.6615627 , -1.70417033,\n",
       "        0.36753632, -0.63548879, -0.07772051])"
      ]
     },
     "execution_count": 85,
     "metadata": {},
     "output_type": "execute_result"
    }
   ],
   "source": [
    "y"
   ]
  },
  {
   "cell_type": "code",
   "execution_count": 89,
   "id": "79c85099-7f87-4924-8d4f-f0d75f1a0242",
   "metadata": {},
   "outputs": [
    {
     "data": {
      "text/plain": [
       "array([ 0.62141167,  0.27140952,  0.0398402 ,  0.01151832, -1.12717801,\n",
       "        0.36753632,  0.38389155,  0.23783551])"
      ]
     },
     "execution_count": 89,
     "metadata": {},
     "output_type": "execute_result"
    }
   ],
   "source": [
    "np.maximum(x,y) # element wise "
   ]
  },
  {
   "cell_type": "code",
   "execution_count": 90,
   "id": "b436eaf3-433b-4085-8c1b-732a8d6c1888",
   "metadata": {},
   "outputs": [
    {
     "data": {
      "text/plain": [
       "array([-0.25244799, -0.22235104, -0.01185562, -0.00762009,  1.92090331,\n",
       "        0.12301918, -0.24395878, -0.0184847 ])"
      ]
     },
     "execution_count": 90,
     "metadata": {},
     "output_type": "execute_result"
    }
   ],
   "source": [
    "np.multiply(x,y)"
   ]
  },
  {
   "cell_type": "code",
   "execution_count": 91,
   "id": "411dbae1-7721-4f85-ab8b-bfdecf830f4a",
   "metadata": {},
   "outputs": [],
   "source": [
    "arr = rng.standard_normal(7)*5"
   ]
  },
  {
   "cell_type": "code",
   "execution_count": 92,
   "id": "302d6242-d4dc-4590-ab1e-cbc78867475d",
   "metadata": {},
   "outputs": [
    {
     "data": {
      "text/plain": [
       "array([11.24883919,  1.15155264,  0.5370795 ,  5.36972891,  6.23176957,\n",
       "        9.06446349, -2.60741987])"
      ]
     },
     "execution_count": 92,
     "metadata": {},
     "output_type": "execute_result"
    }
   ],
   "source": [
    "arr"
   ]
  },
  {
   "cell_type": "code",
   "execution_count": 97,
   "id": "cf7b951c-3e30-4993-83f2-4d323f63ca1d",
   "metadata": {},
   "outputs": [],
   "source": [
    "# modf() -- both remainder, whole_part\n",
    "remainder, whole_part = np.modf(arr)"
   ]
  },
  {
   "cell_type": "code",
   "execution_count": 98,
   "id": "9d927562-9212-45ce-9bb1-71d2c1455feb",
   "metadata": {},
   "outputs": [
    {
     "data": {
      "text/plain": [
       "array([ 0.24883919,  0.15155264,  0.5370795 ,  0.36972891,  0.23176957,\n",
       "        0.06446349, -0.60741987])"
      ]
     },
     "execution_count": 98,
     "metadata": {},
     "output_type": "execute_result"
    }
   ],
   "source": [
    "remainder"
   ]
  },
  {
   "cell_type": "code",
   "execution_count": 99,
   "id": "b5ddc924-e2b3-4db7-8736-d2e7b83ca6e1",
   "metadata": {},
   "outputs": [
    {
     "data": {
      "text/plain": [
       "array([11.,  1.,  0.,  5.,  6.,  9., -2.])"
      ]
     },
     "execution_count": 99,
     "metadata": {},
     "output_type": "execute_result"
    }
   ],
   "source": [
    "whole_part"
   ]
  },
  {
   "cell_type": "code",
   "execution_count": 100,
   "id": "e9e136a2-7eb1-4121-83de-2b2a228279fd",
   "metadata": {},
   "outputs": [
    {
     "data": {
      "text/plain": [
       "array([11.24883919,  1.15155264,  0.5370795 ,  5.36972891,  6.23176957,\n",
       "        9.06446349, -2.60741987])"
      ]
     },
     "execution_count": 100,
     "metadata": {},
     "output_type": "execute_result"
    }
   ],
   "source": [
    "arr"
   ]
  },
  {
   "cell_type": "code",
   "execution_count": 101,
   "id": "3284fc1a-8793-4102-8dcd-1defc745361b",
   "metadata": {},
   "outputs": [
    {
     "data": {
      "text/plain": [
       "array([12.24883919,  2.15155264,  1.5370795 ,  6.36972891,  7.23176957,\n",
       "       10.06446349, -1.60741987])"
      ]
     },
     "execution_count": 101,
     "metadata": {},
     "output_type": "execute_result"
    }
   ],
   "source": [
    "np.add(arr,1)"
   ]
  },
  {
   "cell_type": "code",
   "execution_count": 102,
   "id": "266a02c6-8b06-4fd4-8ce2-5eca8600ef47",
   "metadata": {},
   "outputs": [],
   "source": [
    "out = np.zeros_like(arr)"
   ]
  },
  {
   "cell_type": "code",
   "execution_count": 103,
   "id": "acc594b9-0b46-4670-9a1d-d2fcfcd83312",
   "metadata": {},
   "outputs": [
    {
     "data": {
      "text/plain": [
       "array([12.24883919,  2.15155264,  1.5370795 ,  6.36972891,  7.23176957,\n",
       "       10.06446349, -1.60741987])"
      ]
     },
     "execution_count": 103,
     "metadata": {},
     "output_type": "execute_result"
    }
   ],
   "source": [
    "np.add(arr,1,out=out)"
   ]
  },
  {
   "cell_type": "code",
   "execution_count": 104,
   "id": "dbbbfda2-9109-4169-a22c-79ac9f0243ca",
   "metadata": {},
   "outputs": [
    {
     "data": {
      "text/plain": [
       "array([12.24883919,  2.15155264,  1.5370795 ,  6.36972891,  7.23176957,\n",
       "       10.06446349, -1.60741987])"
      ]
     },
     "execution_count": 104,
     "metadata": {},
     "output_type": "execute_result"
    }
   ],
   "source": [
    "out"
   ]
  },
  {
   "cell_type": "markdown",
   "id": "34028bce-961c-4100-b421-5ae084f88d3e",
   "metadata": {},
   "source": [
    "\n",
    "<pre style=\"color: green; font-size: 18px;\">\n",
    "    The practice\n",
    "    of replacing explicit loops with array expressions is referred to by some people\n",
    "    as vectorization.\n",
    "</pre>"
   ]
  },
  {
   "cell_type": "code",
   "execution_count": 113,
   "id": "d35a1c5b-ef12-4961-9f9d-cac735809722",
   "metadata": {},
   "outputs": [],
   "source": [
    "points = np.linspace(-5,5,num=100) # 100 equaly spaces points"
   ]
  },
  {
   "cell_type": "code",
   "execution_count": 114,
   "id": "f68d03c1-8d2d-4e34-bd93-edaef0c29192",
   "metadata": {},
   "outputs": [
    {
     "data": {
      "text/plain": [
       "array([-5.        , -4.8989899 , -4.7979798 , -4.6969697 , -4.5959596 ,\n",
       "       -4.49494949, -4.39393939, -4.29292929, -4.19191919, -4.09090909,\n",
       "       -3.98989899, -3.88888889, -3.78787879, -3.68686869, -3.58585859,\n",
       "       -3.48484848, -3.38383838, -3.28282828, -3.18181818, -3.08080808,\n",
       "       -2.97979798, -2.87878788, -2.77777778, -2.67676768, -2.57575758,\n",
       "       -2.47474747, -2.37373737, -2.27272727, -2.17171717, -2.07070707,\n",
       "       -1.96969697, -1.86868687, -1.76767677, -1.66666667, -1.56565657,\n",
       "       -1.46464646, -1.36363636, -1.26262626, -1.16161616, -1.06060606,\n",
       "       -0.95959596, -0.85858586, -0.75757576, -0.65656566, -0.55555556,\n",
       "       -0.45454545, -0.35353535, -0.25252525, -0.15151515, -0.05050505,\n",
       "        0.05050505,  0.15151515,  0.25252525,  0.35353535,  0.45454545,\n",
       "        0.55555556,  0.65656566,  0.75757576,  0.85858586,  0.95959596,\n",
       "        1.06060606,  1.16161616,  1.26262626,  1.36363636,  1.46464646,\n",
       "        1.56565657,  1.66666667,  1.76767677,  1.86868687,  1.96969697,\n",
       "        2.07070707,  2.17171717,  2.27272727,  2.37373737,  2.47474747,\n",
       "        2.57575758,  2.67676768,  2.77777778,  2.87878788,  2.97979798,\n",
       "        3.08080808,  3.18181818,  3.28282828,  3.38383838,  3.48484848,\n",
       "        3.58585859,  3.68686869,  3.78787879,  3.88888889,  3.98989899,\n",
       "        4.09090909,  4.19191919,  4.29292929,  4.39393939,  4.49494949,\n",
       "        4.5959596 ,  4.6969697 ,  4.7979798 ,  4.8989899 ,  5.        ])"
      ]
     },
     "execution_count": 114,
     "metadata": {},
     "output_type": "execute_result"
    }
   ],
   "source": [
    "points"
   ]
  },
  {
   "cell_type": "code",
   "execution_count": 109,
   "id": "b83b0337-c2a1-4405-84d3-6c96a279298b",
   "metadata": {},
   "outputs": [
    {
     "data": {
      "text/plain": [
       "[array([[-5.       , -4.8989899, -4.7979798, ...,  4.7979798,  4.8989899,\n",
       "          5.       ],\n",
       "        [-5.       , -4.8989899, -4.7979798, ...,  4.7979798,  4.8989899,\n",
       "          5.       ],\n",
       "        [-5.       , -4.8989899, -4.7979798, ...,  4.7979798,  4.8989899,\n",
       "          5.       ],\n",
       "        ...,\n",
       "        [-5.       , -4.8989899, -4.7979798, ...,  4.7979798,  4.8989899,\n",
       "          5.       ],\n",
       "        [-5.       , -4.8989899, -4.7979798, ...,  4.7979798,  4.8989899,\n",
       "          5.       ],\n",
       "        [-5.       , -4.8989899, -4.7979798, ...,  4.7979798,  4.8989899,\n",
       "          5.       ]]),\n",
       " array([[-5.       , -5.       , -5.       , ..., -5.       , -5.       ,\n",
       "         -5.       ],\n",
       "        [-4.8989899, -4.8989899, -4.8989899, ..., -4.8989899, -4.8989899,\n",
       "         -4.8989899],\n",
       "        [-4.7979798, -4.7979798, -4.7979798, ..., -4.7979798, -4.7979798,\n",
       "         -4.7979798],\n",
       "        ...,\n",
       "        [ 4.7979798,  4.7979798,  4.7979798, ...,  4.7979798,  4.7979798,\n",
       "          4.7979798],\n",
       "        [ 4.8989899,  4.8989899,  4.8989899, ...,  4.8989899,  4.8989899,\n",
       "          4.8989899],\n",
       "        [ 5.       ,  5.       ,  5.       , ...,  5.       ,  5.       ,\n",
       "          5.       ]])]"
      ]
     },
     "execution_count": 109,
     "metadata": {},
     "output_type": "execute_result"
    }
   ],
   "source": [
    "np.meshgrid(points, points)"
   ]
  },
  {
   "cell_type": "markdown",
   "id": "0687633f-7846-4b7d-bd64-05b0515561ee",
   "metadata": {},
   "source": [
    "### Working and Examples of `np.meshgrid()`\r\n",
    "\r\n",
    "The `np.meshgrid()` function in NumPy is used to generate coordinate matrices from coordinate vectors. It takes one-dimensional coordinate arrays as input and returns two-dimensional arrays representing the coordinates of a grid.\r\n",
    "\r\n",
    "#### Example 1: Creating a Grid of Points\r\n",
    "\r\n",
    "```python\r\n",
    "import numpy as np\r\n",
    "\r\n",
    "# Define coordinate vectors\r\n",
    "x = np.array([1, 2, 3])\r\n",
    "y = np.array([4, 5, 6])\r\n",
    "\r\n",
    "# Generate coordinate matrices\r\n",
    "X, Y = np.meshgrid(x, y)\r\n",
    "\r\n",
    "# Display the generated grid\r\n",
    "print(\"X-coordinate matrix:\")\r\n",
    "print(X)\r\n",
    "print(\"\\nY-coordinate matrix:\")\r\n",
    "print(Y)\r\n"
   ]
  },
  {
   "cell_type": "code",
   "execution_count": 110,
   "id": "e9d6770d-8ea6-4b4b-a4c8-32a13234d9fc",
   "metadata": {},
   "outputs": [],
   "source": [
    "x = np.array([1, 2, 3])\n",
    "y = np.array([4, 5, 6])"
   ]
  },
  {
   "cell_type": "code",
   "execution_count": 111,
   "id": "ac0656d1-dbf4-4a19-a9ec-c3e31c4420fe",
   "metadata": {},
   "outputs": [],
   "source": [
    "X,Y = np.meshgrid(x,y)"
   ]
  },
  {
   "cell_type": "code",
   "execution_count": 112,
   "id": "1fac29ee-a346-4ea8-b1e8-566f7e58bf8b",
   "metadata": {},
   "outputs": [
    {
     "name": "stdout",
     "output_type": "stream",
     "text": [
      "X-coordinate matrix:\n",
      "[[1 2 3]\n",
      " [1 2 3]\n",
      " [1 2 3]]\n",
      "\n",
      "Y-coordinate matrix:\n",
      "[[4 4 4]\n",
      " [5 5 5]\n",
      " [6 6 6]]\n"
     ]
    }
   ],
   "source": [
    "print(\"X-coordinate matrix:\")\n",
    "print(X)\n",
    "print(\"\\nY-coordinate matrix:\")\n",
    "print(Y)"
   ]
  },
  {
   "cell_type": "code",
   "execution_count": 117,
   "id": "c8d90833-4d3b-4203-98ed-531da80fd644",
   "metadata": {},
   "outputs": [],
   "source": [
    "xs, ys = np.meshgrid(points, points)"
   ]
  },
  {
   "cell_type": "code",
   "execution_count": 118,
   "id": "0fbf57bb-71fc-47db-b13d-e2401781a58d",
   "metadata": {},
   "outputs": [],
   "source": [
    "z = np.sqrt(xs**2 + ys**2)"
   ]
  },
  {
   "cell_type": "code",
   "execution_count": 119,
   "id": "a45f3d12-3592-40c2-a04a-de7d5ecfdbf4",
   "metadata": {},
   "outputs": [
    {
     "data": {
      "text/plain": [
       "array([[7.07106781, 7.00000729, 6.92969048, ..., 6.92969048, 7.00000729,\n",
       "        7.07106781],\n",
       "       [7.00000729, 6.92821796, 6.85716502, ..., 6.85716502, 6.92821796,\n",
       "        7.00000729],\n",
       "       [6.92969048, 6.85716502, 6.7853681 , ..., 6.7853681 , 6.85716502,\n",
       "        6.92969048],\n",
       "       ...,\n",
       "       [6.92969048, 6.85716502, 6.7853681 , ..., 6.7853681 , 6.85716502,\n",
       "        6.92969048],\n",
       "       [7.00000729, 6.92821796, 6.85716502, ..., 6.85716502, 6.92821796,\n",
       "        7.00000729],\n",
       "       [7.07106781, 7.00000729, 6.92969048, ..., 6.92969048, 7.00000729,\n",
       "        7.07106781]])"
      ]
     },
     "execution_count": 119,
     "metadata": {},
     "output_type": "execute_result"
    }
   ],
   "source": [
    "z"
   ]
  },
  {
   "cell_type": "code",
   "execution_count": 122,
   "id": "bd96ea26-2560-4736-9d8a-476295390509",
   "metadata": {},
   "outputs": [],
   "source": [
    "dis = np.sqrt(X**2 + Y**2)"
   ]
  },
  {
   "cell_type": "code",
   "execution_count": 124,
   "id": "59654b53-88bb-4cce-9993-594b1779a848",
   "metadata": {},
   "outputs": [
    {
     "data": {
      "text/plain": [
       "array([[1, 4, 9],\n",
       "       [1, 4, 9],\n",
       "       [1, 4, 9]])"
      ]
     },
     "execution_count": 124,
     "metadata": {},
     "output_type": "execute_result"
    }
   ],
   "source": [
    "X**2"
   ]
  },
  {
   "cell_type": "code",
   "execution_count": 125,
   "id": "f085ad46-31b9-41ad-b29f-70c078fe0072",
   "metadata": {},
   "outputs": [
    {
     "data": {
      "text/plain": [
       "array([[16, 16, 16],\n",
       "       [25, 25, 25],\n",
       "       [36, 36, 36]])"
      ]
     },
     "execution_count": 125,
     "metadata": {},
     "output_type": "execute_result"
    }
   ],
   "source": [
    "Y**2"
   ]
  },
  {
   "cell_type": "code",
   "execution_count": 121,
   "id": "a2aa0232-3c45-4f8c-a46d-4a38325d47fa",
   "metadata": {},
   "outputs": [
    {
     "data": {
      "text/plain": [
       "array([[4.12310563, 4.47213595, 5.        ],\n",
       "       [5.09901951, 5.38516481, 5.83095189],\n",
       "       [6.08276253, 6.32455532, 6.70820393]])"
      ]
     },
     "execution_count": 121,
     "metadata": {},
     "output_type": "execute_result"
    }
   ],
   "source": [
    "dis"
   ]
  },
  {
   "cell_type": "code",
   "execution_count": 126,
   "id": "60682219-2793-4136-b930-9bb2cef19a81",
   "metadata": {},
   "outputs": [],
   "source": [
    "import matplotlib.pyplot as plt"
   ]
  },
  {
   "cell_type": "code",
   "execution_count": 141,
   "id": "856f3059-b60e-4dc1-aa56-9cff1e8f0737",
   "metadata": {},
   "outputs": [
    {
     "data": {
      "image/png": "[encoded data removed]",
      "text/plain": [
       "<Figure size 640x480 with 2 Axes>"
      ]
     },
     "metadata": {},
     "output_type": "display_data"
    }
   ],
   "source": [
    "plt.imshow(dis, cmap=\"gray\", extent=[1,3,4,6])\n",
    "plt.colorbar()\n",
    "plt.title(\"Image plot of $\\sqrt{X^2 + Y^2}$ for a grid values\")\n",
    "plt.show()\n"
   ]
  },
  {
   "cell_type": "code",
   "execution_count": 147,
   "id": "65bccd5e-bba9-4de0-bdbc-68cb6f7d5d2c",
   "metadata": {},
   "outputs": [
    {
     "data": {
      "image/png": "[encoded data removed]",
      "text/plain": [
       "<Figure size 640x480 with 2 Axes>"
      ]
     },
     "metadata": {},
     "output_type": "display_data"
    }
   ],
   "source": [
    "plt.imshow(z, cmap=\"magma\", extent=[-5,5,-5,5])\n",
    "plt.colorbar()\n",
    "plt.title(\"Image plot of $\\sqrt{XS^2 + YS^2}$ for a grid values\")\n",
    "plt.show()"
   ]
  },
  {
   "cell_type": "markdown",
   "id": "fb6cd728-a176-427b-b171-7ed519d24674",
   "metadata": {},
   "source": [
    "## Linear Algebra"
   ]
  },
  {
   "cell_type": "markdown",
   "id": "7145a17d-bbe4-442c-bd23-7374632013d9",
   "metadata": {},
   "source": [
    "| Function            | Description                                                                                         |\r\n",
    "|---------------------|-----------------------------------------------------------------------------------------------------|\r\n",
    "| **<span style=\"font-size:18px; color:#FF5733\">diag</span>**        | <span style=\"font-size:18px\">Return the diagonal (or off-diagonal) elements of a square matrix as a 1D array, or convert a 1D array into a square matrix with zeros on the off-diagonal</span> |\r\n",
    "| **<span style=\"font-size:18px; color:#C70039\">dot</span>**         | <span style=\"font-size:18px\">Matrix multiplication</span>                                           |\r\n",
    "| **<span style=\"font-size:18px; color:#900C3F\">trace</span>**       | <span style=\"font-size:18px\">Compute the sum of the diagonal elements</span>                         |\r\n",
    "| **<span style=\"font-size:18px; color:#581845\">det</span>**         | <span style=\"font-size:18px\">Compute the matrix determinant</span>                                   |\r\n",
    "| **<span style=\"font-size:18px; color:#FFC300\">eig</span>**         | <span style=\"font-size:18px\">Compute the eigenvalues and eigenvectors of a square matrix</span>     |\r\n",
    "| **<span style=\"font-size:18px; color:#FF5733\">inv</span>**         | <span style=\"font-size:18px\">Compute the inverse of a square matrix</span>                           |\r\n",
    "| **<span style=\"font-size:18px; color:#C70039\">pinv</span>**        | <span style=\"font-size:18px\">Compute the Moore-Penrose pseudoinverse of a matrix</span>             |\r\n",
    "| **<span style=\"font-size:18px; color:#900C3F\">qr</span>**          | <span style=\"font-size:18px\">Compute the QR decomposition</span>                                      |\r\n",
    "| **<span style=\"font-size:18px; color:#581845\">svd</span>**         | <span style=\"font-size:18px\">Compute the singular value decomposition (SVD)</span>                   |\r\n",
    "| **<span style=\"font-size:18px; color:#FFC300\">solve</span>**       | <span style=\"font-size:18px\">Solve the linear system Ax = b for x, where A is a square matrix</span>|\r\n",
    "| **<span style=\"font-size:18px; color:#FF5733\">lstsq</span>**       | <span style=\"font-size:18px\">Compute the least-squares solution to Ax = b</span>                     |\r\n"
   ]
  },
  {
   "cell_type": "code",
   "execution_count": 149,
   "id": "c473159c-1f92-4120-a78a-2523c85f0ac9",
   "metadata": {},
   "outputs": [],
   "source": [
    "x = np.array([[1., 2., 3.], [4., 5., 6.]])\n",
    "y = np.array([[6., 23.], [-1, 7], [8, 9]])"
   ]
  },
  {
   "cell_type": "code",
   "execution_count": 152,
   "id": "159719e2-7032-48b4-8032-ddf61055a895",
   "metadata": {},
   "outputs": [
    {
     "data": {
      "text/plain": [
       "array([[ 28.,  64.],\n",
       "       [ 67., 181.]])"
      ]
     },
     "execution_count": 152,
     "metadata": {},
     "output_type": "execute_result"
    }
   ],
   "source": [
    "x.dot(y) # matrix multiplication"
   ]
  },
  {
   "cell_type": "code",
   "execution_count": 154,
   "id": "5799b020-3900-4a1e-98e4-e0deb83854e9",
   "metadata": {},
   "outputs": [
    {
     "data": {
      "text/plain": [
       "array([[ 28.,  64.],\n",
       "       [ 67., 181.]])"
      ]
     },
     "execution_count": 154,
     "metadata": {},
     "output_type": "execute_result"
    }
   ],
   "source": [
    "np.dot(x,y)"
   ]
  },
  {
   "cell_type": "code",
   "execution_count": 156,
   "id": "ec85f667-e8f2-4bf9-b6bd-de8f3c688748",
   "metadata": {},
   "outputs": [
    {
     "ename": "ValueError",
     "evalue": "operands could not be broadcast together with shapes (2,3) (3,2) ",
     "output_type": "error",
     "traceback": [
      "\u001b[1;31m---------------------------------------------------------------------------\u001b[0m",
      "\u001b[1;31mValueError\u001b[0m                                Traceback (most recent call last)",
      "Cell \u001b[1;32mIn[156], line 1\u001b[0m\n\u001b[1;32m----> 1\u001b[0m np\u001b[38;5;241m.\u001b[39mmultiply(x,y)\n",
      "\u001b[1;31mValueError\u001b[0m: operands could not be broadcast together with shapes (2,3) (3,2) "
     ]
    }
   ],
   "source": [
    "np.multiply(x,y) # element multiplication"
   ]
  },
  {
   "cell_type": "code",
   "execution_count": 157,
   "id": "f0068a5a-b1ed-4f9f-9098-0335698f85ab",
   "metadata": {},
   "outputs": [
    {
     "data": {
      "text/plain": [
       "array([ 6., 15.])"
      ]
     },
     "execution_count": 157,
     "metadata": {},
     "output_type": "execute_result"
    }
   ],
   "source": [
    "x @ np.ones(3)"
   ]
  },
  {
   "cell_type": "markdown",
   "id": "86dfe1d3-f3bd-4fa4-8b92-8105d95f9421",
   "metadata": {},
   "source": [
    "### from numpy import linalg\n",
    "### Linear Algebra Functions\r",
    "rt numpy as np\r\n",
    "\r\n",
    "     A = np.array([[1, 2],\r\n",
    "                   [2, 1]])\r\n",
    "\r\n",
    "     eigenvalues, eigenvectors = np.linalg.eig(A)\r\n",
    "     ```\r\n",
    "\r\n",
    "6. **inv**:\r\n",
    "   - *Description*: Computes the inverse of a square matrix.\r\n",
    "   - *Example*:\r\n",
    "     ```python\r\n",
    "     import numpy as np\r\n",
    "\r\n",
    "     A = np.array([[1, 2],\r\n",
    "                   [3, 4]])\r\n",
    "\r\n",
    "     inverse = np.linalg.inv(A)\r\n",
    "     ```\r\n",
    "\r\n",
    "7. **pinv**:\r\n",
    "   - *Description*: Computes the Moore-Penrose pseudoinverse of a matrix.\r\n",
    "   - *Example*:\r\n",
    "     ```python\r\n",
    "     import numpy as np\r\n",
    "\r\n",
    "     A = np.array([[1, 2],\r\n",
    "                   [3, 4],\r\n",
    "                   [5, 6]])\r\n",
    "\r\n",
    "     pseudoinverse = np.linalg.pinv(A)\r\n",
    "     ```\r\n",
    "\r\n",
    "8. **qr**:\r\n",
    "   - *Description*: Computes the QR decomposition of a matrix.\r\n",
    "   - *Example*:\r\n",
    "     ```python\r\n",
    "     import numpy as np\r\n",
    "\r\n",
    "     A = np.array([[1, -1, 4],\r\n",
    "                   [1, 4, -2],\r\n",
    "                   [1, 4, 2]])\r\n",
    "\r\n",
    "     Q, R = np.linalg.qr(A)\r\n",
    "     ```\r\n",
    "\r\n",
    "9. **svd**:\r\n",
    "   - *Description*: Computes the singular value decomposition (SVD) of a matrix.\r\n",
    "   - *Example*:\r\n",
    "     ```python\r\n",
    "     import numpy as np\r\n",
    "\r\n",
    "     A = np.array([[1, 2],\r\n",
    "                   [3, 4],\r\n",
    "                   [5, 6]])\r\n",
    "\r\n",
    "     U, S, V = np.linalg.svd(A)\r\n",
    "     ```\r\n",
    "\r\n",
    "10. **solve**:\r\n",
    "    - *Description*: Solves a linear system Ax = b for x, where A is a square matrix.\r\n",
    "    - *Example*:\r\n",
    "      ```python\r\n",
    "      import numpy as np\r\n",
    "\r\n",
    "      A = np.array([[2, 3],\r\n",
    "                    [5, 4]])\r\n",
    "      b = np.array([4, 3])\r\n",
    "\r\n",
    "      solution = np.linalg.solve(A, b)\r\n",
    "      ```\r\n",
    "\r\n",
    "11. **lstsq**:\r\n",
    "    - *Description*: Computes the least-squares solution to Ax = b.\r\n",
    "    - *Example*:\r\n",
    "      ```python\r\n",
    "      import numpy as np\r\n",
    "\r\n",
    "      A = np.array([[1, 1],\r\n",
    "                    [1, 2],\r\n",
    "                    [1, 3]])\r\n",
    "      b = np.array([2, 3, 4])\r\n",
    "\r\n",
    "      solution = np.linalg.lstsq(A, b, rcond=None)\r\n",
    "      ```\r\n"
   ]
  },
  {
   "cell_type": "markdown",
   "id": "27a4b054-4f23-4250-8c76-f7ff04c03ae0",
   "metadata": {},
   "source": [
    "1. **diag**:\n",
    "   - *Description*: Extracts diagonal (or off-diagonal) elements of a square matrix as a 1D array or converts a 1D array into a square matrix with zeros on the off-diagonal.\n",
    "   - *Example*:\n",
    "     ```python\n",
    "     import numpy as np\n",
    "\n",
    "     A = np.array([[1, 2, 3],\n",
    "                   [4, 5, 6],\n",
    "                   [7, 8, 9]])\n",
    "\n",
    "     diagonal = np.diag(A)\n",
    "     B = np.diag(diagonal)\n",
    "     ```"
   ]
  },
  {
   "cell_type": "code",
   "execution_count": 158,
   "id": "8e5acc1f-0fbe-4700-a179-be610cf99713",
   "metadata": {},
   "outputs": [],
   "source": [
    "A = np.array([[1, 2, 3],\n",
    "              [4, 5, 6],\n",
    "              [7, 8, 9]])"
   ]
  },
  {
   "cell_type": "code",
   "execution_count": 159,
   "id": "6dfb2b25-347c-4759-993b-d038a1d584f7",
   "metadata": {},
   "outputs": [
    {
     "data": {
      "text/plain": [
       "array([[1, 2, 3],\n",
       "       [4, 5, 6],\n",
       "       [7, 8, 9]])"
      ]
     },
     "execution_count": 159,
     "metadata": {},
     "output_type": "execute_result"
    }
   ],
   "source": [
    "A"
   ]
  },
  {
   "cell_type": "code",
   "execution_count": 160,
   "id": "09dba9fd-0b5f-4e81-935c-3f4dfbde70fd",
   "metadata": {},
   "outputs": [],
   "source": [
    "diagonal = np.diag(A)"
   ]
  },
  {
   "cell_type": "code",
   "execution_count": 161,
   "id": "c13711c0-473b-4a09-90db-5d271106e19b",
   "metadata": {},
   "outputs": [
    {
     "data": {
      "text/plain": [
       "array([1, 5, 9])"
      ]
     },
     "execution_count": 161,
     "metadata": {},
     "output_type": "execute_result"
    }
   ],
   "source": [
    "diagonal"
   ]
  },
  {
   "cell_type": "code",
   "execution_count": 162,
   "id": "c149824b-8ee8-4ffb-b7b0-adb6ef1d4c88",
   "metadata": {},
   "outputs": [],
   "source": [
    "B = np.diag(diagonal)"
   ]
  },
  {
   "cell_type": "code",
   "execution_count": 163,
   "id": "a55c447e-89ad-42c3-a60a-f0a39d7ba191",
   "metadata": {},
   "outputs": [
    {
     "data": {
      "text/plain": [
       "array([[1, 0, 0],\n",
       "       [0, 5, 0],\n",
       "       [0, 0, 9]])"
      ]
     },
     "execution_count": 163,
     "metadata": {},
     "output_type": "execute_result"
    }
   ],
   "source": [
    "B"
   ]
  },
  {
   "cell_type": "markdown",
   "id": "e0543636-a733-4450-a864-52983e96ea0b",
   "metadata": {},
   "source": [
    "\n",
    "2. **dot**:\n",
    "   - *Description*: Performs matrix multiplication between two arrays.\n",
    "   - *Example*:\n",
    "     ```python\n",
    "     import numpy as np\n",
    "\n",
    "     A = np.array([[1, 2],\n",
    "                   [3, 4]])\n",
    "     B = np.array([[5, 6],\n",
    "                   [7, 8]])\n",
    "\n",
    "     result = np.dot(A, B)\n",
    "     ```"
   ]
  },
  {
   "cell_type": "code",
   "execution_count": 164,
   "id": "de0a16a7-f5a2-4b77-b2af-371e5d86f4d2",
   "metadata": {},
   "outputs": [],
   "source": [
    "A = np.array([[1, 2],\n",
    "              [3, 4]])\n",
    "B = np.array([[5, 6],\n",
    "              [7, 8]])"
   ]
  },
  {
   "cell_type": "code",
   "execution_count": 166,
   "id": "013b2d10-cad8-4810-a0a0-ad4990c5538f",
   "metadata": {},
   "outputs": [
    {
     "data": {
      "text/plain": [
       "array([[19, 22],\n",
       "       [43, 50]])"
      ]
     },
     "execution_count": 166,
     "metadata": {},
     "output_type": "execute_result"
    }
   ],
   "source": [
    "result = np.dot(A,B)\n",
    "result"
   ]
  },
  {
   "cell_type": "markdown",
   "id": "e28df417-5368-4b99-8041-8c1ac07d0ba5",
   "metadata": {},
   "source": [
    "\n",
    "3. **trace**:\n",
    "   - *Description*: Computes the sum of the diagonal elements of a square matrix.\n",
    "   - *Example*:\n",
    "     ```python\n",
    "     import numpy as np\n",
    "\n",
    "     A = np.array([[1, 2, 3],\n",
    "                   [4, 5, 6],\n",
    "                   [7, 8, 9]])\n",
    "\n",
    "     trace_value = np.trace(A)\n",
    "     ```"
   ]
  },
  {
   "cell_type": "code",
   "execution_count": 167,
   "id": "eb45281d-1e3c-48bf-9683-dc5e350314c5",
   "metadata": {},
   "outputs": [],
   "source": [
    "\n",
    "A = np.array([[1, 2, 3],\n",
    "              [4, 5, 6],\n",
    "              [7, 8, 9]])"
   ]
  },
  {
   "cell_type": "code",
   "execution_count": 168,
   "id": "dfd7730f-3c43-4a13-929d-b09892445efa",
   "metadata": {},
   "outputs": [
    {
     "data": {
      "text/plain": [
       "15"
      ]
     },
     "execution_count": 168,
     "metadata": {},
     "output_type": "execute_result"
    }
   ],
   "source": [
    "np.trace(A)"
   ]
  },
  {
   "cell_type": "markdown",
   "id": "27492cb2-1e49-49e6-8fdf-741c950204c8",
   "metadata": {},
   "source": [
    "4. **det**:\n",
    "   - *Description*: Computes the determinant of a square matrix.\n",
    "   - *Example*:\n",
    "     ```python\n",
    "     import numpy as np\n",
    "\n",
    "        A = np.array([[1, 2],\r\n",
    "                   [3, 4]])    result = np.linalg.det(A)\n",
    "                 \n",
    "     ```"
   ]
  },
  {
   "cell_type": "code",
   "execution_count": 169,
   "id": "024583ce-d3b7-4db4-b941-2c2c54d9c3a7",
   "metadata": {},
   "outputs": [],
   "source": [
    "from numpy import linalg"
   ]
  },
  {
   "cell_type": "code",
   "execution_count": 173,
   "id": "1937e8a8-0b7e-4aef-8590-70e180e6c404",
   "metadata": {},
   "outputs": [],
   "source": [
    "A = np.array([[1, 2],\n",
    "              [3, 4]])    \n",
    "result = np.linalg.det(A)"
   ]
  },
  {
   "cell_type": "code",
   "execution_count": 174,
   "id": "4278a3f9-c9ae-43b7-ad64-2fb1a6cd989d",
   "metadata": {},
   "outputs": [
    {
     "data": {
      "text/plain": [
       "-2.0000000000000004"
      ]
     },
     "execution_count": 174,
     "metadata": {},
     "output_type": "execute_result"
    }
   ],
   "source": [
    "result"
   ]
  },
  {
   "cell_type": "code",
   "execution_count": 175,
   "id": "410c1101-f8b7-4fb0-be5c-d231fce38fd0",
   "metadata": {},
   "outputs": [],
   "source": [
    "A = np.array([[1, 2, 3],\n",
    "              [4, 5, 6],\n",
    "              [7, 8, 9]])"
   ]
  },
  {
   "cell_type": "code",
   "execution_count": 179,
   "id": "0d8321ee-8678-4c9b-af52-8e6367575c97",
   "metadata": {},
   "outputs": [
    {
     "data": {
      "text/plain": [
       "-9.51619735392994e-16"
      ]
     },
     "execution_count": 179,
     "metadata": {},
     "output_type": "execute_result"
    }
   ],
   "source": [
    "np.linalg.det(A)"
   ]
  },
  {
   "cell_type": "markdown",
   "id": "2b4900e8-3183-44ff-8582-c528c14567a7",
   "metadata": {},
   "source": [
    "5. **eig**:\n",
    "   - *Description*: Computes the eigenvalues and eigenvectors of a square matrix.\n",
    "   - *Example*:\n",
    "     ```python\n",
    "     import numpy as np\n",
    "\n",
    "     A = np.array([[1, 2],\n",
    "                   [2, 1]])\n",
    "\n",
    "     eigenvalues, eigenvectors = np.linalg.eig(A)"
   ]
  },
  {
   "cell_type": "code",
   "execution_count": 180,
   "id": "e50f7697-b8cd-4cff-b7be-09fc92d39ef6",
   "metadata": {},
   "outputs": [],
   "source": [
    "A = np.array([[1, 2],\n",
    "              [2, 1]])"
   ]
  },
  {
   "cell_type": "code",
   "execution_count": 182,
   "id": "b38c69e8-9d1b-49de-a142-b7b46875aec1",
   "metadata": {},
   "outputs": [],
   "source": [
    "eig_results = np.linalg.eig(A)"
   ]
  },
  {
   "cell_type": "code",
   "execution_count": 183,
   "id": "4c2c08a5-43e3-4df0-93fd-b772cb7a26a2",
   "metadata": {},
   "outputs": [],
   "source": [
    "eigenvalues, eigenvectors = eig_results"
   ]
  },
  {
   "cell_type": "code",
   "execution_count": 184,
   "id": "0bf47b3b-0fc0-4714-8b80-4025b5f63e67",
   "metadata": {},
   "outputs": [
    {
     "data": {
      "text/plain": [
       "array([ 3., -1.])"
      ]
     },
     "execution_count": 184,
     "metadata": {},
     "output_type": "execute_result"
    }
   ],
   "source": [
    "eigenvalues"
   ]
  },
  {
   "cell_type": "code",
   "execution_count": 185,
   "id": "b4753502-dd4f-49f2-9717-03f93f35b576",
   "metadata": {},
   "outputs": [
    {
     "data": {
      "text/plain": [
       "array([[ 0.70710678, -0.70710678],\n",
       "       [ 0.70710678,  0.70710678]])"
      ]
     },
     "execution_count": 185,
     "metadata": {},
     "output_type": "execute_result"
    }
   ],
   "source": [
    "eigenvectors"
   ]
  },
  {
   "cell_type": "code",
   "execution_count": null,
   "id": "62343187-0188-4200-a553-4aeade51bc4a",
   "metadata": {},
   "outputs": [],
   "source": []
  },
  {
   "cell_type": "code",
   "execution_count": null,
   "id": "1394ca54-4dff-4c92-84ec-cba1f9fb15ec",
   "metadata": {},
   "outputs": [],
   "source": []
  },
  {
   "cell_type": "code",
   "execution_count": 186,
   "id": "ef54973d-0851-492d-9ccd-064d1c697227",
   "metadata": {},
   "outputs": [],
   "source": [
    "# solution to equation"
   ]
  },
  {
   "cell_type": "code",
   "execution_count": 187,
   "id": "de9accb9-51e5-4aeb-8d2a-582cc34ecbb8",
   "metadata": {},
   "outputs": [],
   "source": [
    "A = np.array([[2, 3],\n",
    "              [5, 4]])\n",
    "b = np.array([4, 3])"
   ]
  },
  {
   "cell_type": "code",
   "execution_count": 188,
   "id": "21b1722f-bcd0-40fc-9545-54458d58ac79",
   "metadata": {},
   "outputs": [
    {
     "data": {
      "text/plain": [
       "array([[0.14285714, 0.        ],\n",
       "       [1.57142857, 2.        ]])"
      ]
     },
     "execution_count": 188,
     "metadata": {},
     "output_type": "execute_result"
    }
   ],
   "source": [
    "np.linalg.solve(A,B)"
   ]
  },
  {
   "cell_type": "code",
   "execution_count": 199,
   "id": "9eec926e-2d95-4144-828f-d73ba6a39fce",
   "metadata": {},
   "outputs": [],
   "source": [
    "# 2x + 3y = 8\n",
    "# 4x - 2y = 2\n",
    "\n",
    "A = np.array([2,3,4,-2]).reshape((2,2))\n",
    "B = np.array([8,2])"
   ]
  },
  {
   "cell_type": "code",
   "execution_count": 200,
   "id": "436e7348-86e9-45c9-974d-fed5b782f439",
   "metadata": {},
   "outputs": [
    {
     "data": {
      "text/plain": [
       "array([[ 2,  3],\n",
       "       [ 4, -2]])"
      ]
     },
     "execution_count": 200,
     "metadata": {},
     "output_type": "execute_result"
    }
   ],
   "source": [
    "A"
   ]
  },
  {
   "cell_type": "code",
   "execution_count": 201,
   "id": "aee3f54c-d06b-4752-888a-ee484bcff608",
   "metadata": {},
   "outputs": [
    {
     "data": {
      "text/plain": [
       "array([8, 2])"
      ]
     },
     "execution_count": 201,
     "metadata": {},
     "output_type": "execute_result"
    }
   ],
   "source": [
    "B"
   ]
  },
  {
   "cell_type": "code",
   "execution_count": 202,
   "id": "f5173ce9-5f91-49c6-b6a5-82e5b3c96169",
   "metadata": {},
   "outputs": [
    {
     "data": {
      "text/plain": [
       "array([1.375, 1.75 ])"
      ]
     },
     "execution_count": 202,
     "metadata": {},
     "output_type": "execute_result"
    }
   ],
   "source": [
    "np.linalg.solve(A,B)"
   ]
  },
  {
   "cell_type": "code",
   "execution_count": null,
   "id": "d8ed1224-bb2d-445b-9890-535ff0cadf91",
   "metadata": {},
   "outputs": [],
   "source": []
  },
  {
   "cell_type": "code",
   "execution_count": null,
   "id": "1557a79a-dc6e-4c9a-bcb1-32ccb94cf080",
   "metadata": {},
   "outputs": [],
   "source": []
  },
  {
   "cell_type": "markdown",
   "id": "b031d20f-7409-4e05-b0af-883ff660c337",
   "metadata": {},
   "source": [
    "\r\n"
   ]
  },
  {
   "cell_type": "markdown",
   "id": "d3ccbd3e-1516-47c5-9947-f889277b378f",
   "metadata": {},
   "source": [
    "<span style=\"font-family: Papyrus; color: #4B0082; font-size: 24px; font-weight: bold;\">EXAMPLE: RANDOM WALKS</span>\r\n"
   ]
  },
  {
   "cell_type": "code",
   "execution_count": 208,
   "id": "7aa1bbca-fbb9-41ed-9935-be2fa1de8c40",
   "metadata": {},
   "outputs": [],
   "source": [
    "import random\n",
    "position = 0\n",
    "walk = [position]\n",
    "nsteps = 1000\n",
    "for _ in range(nsteps):\n",
    "    step = 1 if random.randint(0,1) else -1\n",
    "    position+=step\n",
    "    walk.append(position)"
   ]
  },
  {
   "cell_type": "code",
   "execution_count": 209,
   "id": "039f0a7e-f6f3-40a9-86ae-eb44925b22b5",
   "metadata": {},
   "outputs": [
    {
     "data": {
      "image/png": "[encoded data removed]",
      "text/plain": [
       "<Figure size 640x480 with 1 Axes>"
      ]
     },
     "metadata": {},
     "output_type": "display_data"
    }
   ],
   "source": [
    "# plot ist 100 steps\n",
    "plt.plot(walk[:100])\n",
    "plt.show()"
   ]
  },
  {
   "cell_type": "code",
   "execution_count": 216,
   "id": "4da29c73-8bf0-4c68-91af-7abfbf6b2ef3",
   "metadata": {},
   "outputs": [
    {
     "data": {
      "image/png": "[encoded data removed]",
      "text/plain": [
       "<Figure size 640x480 with 1 Axes>"
      ]
     },
     "metadata": {},
     "output_type": "display_data"
    }
   ],
   "source": [
    "# position is cum sum\n",
    "# steps are random either -1 or +1, with equal probability\n",
    "# Number of steps in the random walk\n",
    "num_steps = 1000\n",
    "\n",
    "\n",
    "# Generate random steps (+1 or -1) for each step\n",
    "steps = np.random.choice([-1,1],size=num_steps)\n",
    "\n",
    "# Calculate the cumulative sum of steps to get the random walk path\n",
    "\n",
    "position = np.cumsum(steps)\n",
    "\n",
    "# for first 100 steps\n",
    "\n",
    "plt.plot(position[:100])\n",
    "plt.show()\n",
    "\n"
   ]
  },
  {
   "cell_type": "code",
   "execution_count": 233,
   "id": "c779c5ff-353a-4877-a274-a5fd0f640772",
   "metadata": {},
   "outputs": [
    {
     "data": {
      "image/png": "[encoded data removed]",
      "text/plain": [
       "<Figure size 640x480 with 1 Axes>"
      ]
     },
     "metadata": {},
     "output_type": "display_data"
    }
   ],
   "source": [
    "rng = np.random.default_rng(seed=12345)\n",
    "steps = rng.choice([1,-1], size=num_steps)\n",
    "walk = np.cumsum(steps)\n",
    "plt.plot(walk[:100])\n",
    "plt.show()\n"
   ]
  },
  {
   "cell_type": "code",
   "execution_count": 234,
   "id": "bf4f5d76-81dc-4299-ad92-eaf8475251f5",
   "metadata": {},
   "outputs": [
    {
     "data": {
      "text/plain": [
       "-8"
      ]
     },
     "execution_count": 234,
     "metadata": {},
     "output_type": "execute_result"
    }
   ],
   "source": [
    "walk.min()"
   ]
  },
  {
   "cell_type": "code",
   "execution_count": 235,
   "id": "18a0580e-443c-4456-a7ea-009a29fb2dda",
   "metadata": {},
   "outputs": [
    {
     "data": {
      "text/plain": [
       "50"
      ]
     },
     "execution_count": 235,
     "metadata": {},
     "output_type": "execute_result"
    }
   ],
   "source": [
    "walk.max()"
   ]
  },
  {
   "cell_type": "code",
   "execution_count": null,
   "id": "ad59b4f2-953a-4fda-8c4b-5e4afc85e960",
   "metadata": {},
   "outputs": [],
   "source": [
    "# we have an array of steps  and walk both"
   ]
  },
  {
   "cell_type": "code",
   "execution_count": 238,
   "id": "c446b641-7b55-4729-b3e4-7489a0570a26",
   "metadata": {},
   "outputs": [
    {
     "name": "stdout",
     "output_type": "stream",
     "text": [
      "[-1  0 -1  0  1  0 -1 -2 -3 -2 -3 -2 -3 -4 -3 -2 -1 -2 -3 -4 -5 -4 -5 -6\n",
      " -7 -8 -7 -6 -5 -4 -3 -4 -3 -4 -3 -2 -1 -2 -3 -2 -3 -2 -1  0 -1  0  1  2\n",
      "  3  4  3  2  3  4  5  6  7  8  9  8  7  6  5  4  5  4  3  2  1  0 -1 -2\n",
      " -3 -4 -3 -4 -5 -4 -3 -2 -3 -2 -3 -4 -5 -4 -5 -6 -5 -4 -3 -2 -3 -2 -3 -2\n",
      " -1  0  1  0]\n"
     ]
    }
   ],
   "source": [
    "print(walk[:100])"
   ]
  },
  {
   "cell_type": "code",
   "execution_count": 241,
   "id": "464fae47-5bf8-4d65-9bb7-4b17fdceeedb",
   "metadata": {},
   "outputs": [
    {
     "data": {
      "text/plain": [
       "array([1, 0, 1, 0, 1, 0, 1, 2, 3, 2, 3, 2, 3, 4, 3, 2, 1, 2, 3, 4, 5, 4,\n",
       "       5, 6, 7, 8, 7, 6, 5, 4, 3, 4, 3, 4, 3, 2, 1, 2, 3, 2, 3, 2, 1, 0,\n",
       "       1, 0, 1, 2, 3, 4, 3, 2, 3, 4, 5, 6, 7, 8, 9, 8, 7, 6, 5, 4, 5, 4,\n",
       "       3, 2, 1, 0, 1, 2, 3, 4, 3, 4, 5, 4, 3, 2, 3, 2, 3, 4, 5, 4, 5, 6,\n",
       "       5, 4, 3, 2, 3, 2, 3, 2, 1, 0, 1, 0])"
      ]
     },
     "execution_count": 241,
     "metadata": {},
     "output_type": "execute_result"
    }
   ],
   "source": [
    "# when a person completes first 10 steps away from his position:\n",
    "np.abs(walk[:100]) # gives only positive values"
   ]
  },
  {
   "cell_type": "code",
   "execution_count": 244,
   "id": "6c83baf6-b176-4b6b-ab54-9b43a0b2b6a1",
   "metadata": {},
   "outputs": [
    {
     "data": {
      "text/plain": [
       "(array([155, 157, 163, 165, 183, 199, 345, 347, 349, 355, 359, 361, 455,\n",
       "        485, 487, 493, 495, 499, 501], dtype=int64),)"
      ]
     },
     "execution_count": 244,
     "metadata": {},
     "output_type": "execute_result"
    }
   ],
   "source": [
    "# get index where value is 10\n",
    "np.where(np.abs(walk) == 10)"
   ]
  },
  {
   "cell_type": "code",
   "execution_count": 249,
   "id": "010c9425-6182-48be-bdcf-44257a526de3",
   "metadata": {},
   "outputs": [
    {
     "data": {
      "text/plain": [
       "(array([155, 157, 163, 165, 183, 199, 345, 347, 349, 355, 359, 361, 455,\n",
       "        485, 487, 493, 495, 499, 501], dtype=int64),)"
      ]
     },
     "execution_count": 249,
     "metadata": {},
     "output_type": "execute_result"
    }
   ],
   "source": [
    "np.where(np.abs(walk) == 10)"
   ]
  },
  {
   "cell_type": "code",
   "execution_count": null,
   "id": "724d3970-b28d-4487-9d4e-e9ca8ef39208",
   "metadata": {},
   "outputs": [],
   "source": []
  }
 ],
 "metadata": {
  "kernelspec": {
   "display_name": "Python 3 (ipykernel)",
   "language": "python",
   "name": "python3"
  },
  "language_info": {
   "codemirror_mode": {
    "name": "ipython",
    "version": 3
   },
   "file_extension": ".py",
   "mimetype": "text/x-python",
   "name": "python",
   "nbconvert_exporter": "python",
   "pygments_lexer": "ipython3",
   "version": "3.11.5"
  }
 },
 "nbformat": 4,
 "nbformat_minor": 5
}
